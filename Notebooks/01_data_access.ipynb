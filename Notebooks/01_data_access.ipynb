{
 "cells": [
  {
   "cell_type": "markdown",
   "metadata": {
    "tags": []
   },
   "source": [
    "# Getting started\n",
    "\n",
    "Data associated with the Allen Brain Cell Atlas is hosted on Amazon Web Services (AWS) in an S3 bucket as a AWS Public Dataset. \n",
    "No account or login is required. The S3 bucket is located here [arn:aws:s3:::allen-brain-cell-atlas](https://allen-brain-cell-atlas.s3.us-west-2.amazonaws.com/index.html). You will need to be connected to the internet to run this notebook.\n",
    "\n",
    "Each data release has an associated **manifest.json** which lists all the specific version of directories and files that are part of the release. We recommend using the [**AbcProjectCache**](https://github.com/AllenInstitute/abc_atlas_access/blob/41eb836e41e516ee528c98bf3979d0aff60c0b85/src/abc_atlas_access/abc_atlas_cache/abc_project_cache.py#L36C7-L36C22) to download the data.\n",
    "\n",
    "Expression matricies are stored in the [anndata h5ad format](https://anndata.readthedocs.io/en/latest/) and need to be downloaded to a local file system for usage.\n",
    "\n",
    "This notebook shows how to use the **AbcProjectCache** to download the data required for the tutorials.\n",
    "\n",
    "Below we install the python library we will be using throughout to this python enviroment."
   ]
  },
  {
   "cell_type": "code",
   "execution_count": null,
   "metadata": {
    "scrolled": true
   },
   "outputs": [],
   "source": [
    "pip install \"abc_atlas_access[notebooks] @ git+https://github.com/alleninstitute/abc_atlas_access.git\""
   ]
  },
  {
   "cell_type": "markdown",
   "metadata": {},
   "source": [
    "After installing these new packages we need to restart the python kernel in this notebook. This can either be done by selecting `Restart Kernel...` under the `Kernel` drop down menu above or uncommenting and running the cell below."
   ]
  },
  {
   "cell_type": "code",
   "execution_count": null,
   "metadata": {},
   "outputs": [],
   "source": [
    "get_ipython().kernel.do_shutdown(restart=True)"
   ]
  },
  {
   "cell_type": "markdown",
   "metadata": {},
   "source": [
    "IPython magic command to render matplotlib plots."
   ]
  },
  {
   "cell_type": "code",
   "execution_count": 1,
   "metadata": {},
   "outputs": [],
   "source": [
    "from pathlib import Path\n",
    "from abc_atlas_access.abc_atlas_cache.abc_project_cache import AbcProjectCache"
   ]
  },
  {
   "cell_type": "markdown",
   "metadata": {
    "tags": []
   },
   "source": [
    "## Using the cache\n",
    "\n",
    "Below we show how to setup up the cache to download from S3, how to list and switch to a different data release, and additionally how to list the directories available, their size, and the files in that directory.\n",
    "\n",
    "Setup the **AbcProjectCache** object by specifying a directory and calling ``from_cache_dir`` as shown below. We also print what version of the manifest is being currently loaded by the cache. This will automatically instantiate the cache and set it up to either download data via a AWS S3 enabled cache or to load it through local read only cache depending on if the user has write access. The later is useful if accessing the data directly through a [s3fs-fuse](https://github.com/s3fs-fuse/s3fs-fuse) or similar mount of the AWS S3 bucket directly such as on CodeOcean.\n",
    "\n",
    "Users can also specify a download enabled or read only local cache explicitly by using the funcitons `from_s3_cache` and `from_local_cache` respectively."
   ]
  },
  {
   "cell_type": "code",
   "execution_count": 2,
   "metadata": {},
   "outputs": [
    {
     "data": {
      "text/plain": [
       "'releases/20241130/manifest.json'"
      ]
     },
     "execution_count": 2,
     "metadata": {},
     "output_type": "execute_result"
    }
   ],
   "source": [
    "download_base = Path('/data/scRNA/ABCA/AIBS/AWS/')\n",
    "abc_cache = AbcProjectCache.from_cache_dir(download_base)\n",
    "abc_cache.current_manifest"
   ]
  },
  {
   "cell_type": "markdown",
   "metadata": {},
   "source": [
    "List the all of the different releases available and usable by the cache object we have just loaded."
   ]
  },
  {
   "cell_type": "code",
   "execution_count": 4,
   "metadata": {},
   "outputs": [
    {
     "data": {
      "text/plain": [
       "['releases/20230630/manifest.json',\n",
       " 'releases/20230830/manifest.json',\n",
       " 'releases/20231215/manifest.json',\n",
       " 'releases/20240330/manifest.json',\n",
       " 'releases/20240831/manifest.json',\n",
       " 'releases/20241115/manifest.json',\n",
       " 'releases/20241130/manifest.json']"
      ]
     },
     "execution_count": 4,
     "metadata": {},
     "output_type": "execute_result"
    }
   ],
   "source": [
    "abc_cache.list_manifest_file_names"
   ]
  },
  {
   "cell_type": "markdown",
   "metadata": {
    "tags": []
   },
   "source": [
    "We can switch to a specific manifest and release version of the data using the ``load_manifest`` method. This determines what version of the released data the cache will download/return to the user. The cache will keep track of which version was last used across sessions. Upon instantiating a cache, the current manifest can be viewed with the method: ``current_manifest``. Note that a warning will be thrown if the manifest loaded by the cache is older than the most recent manifest available.\n",
    "\n",
    "Below we show an example of loading an older manifest. Any of the strings returned by ``list_manifest_file_names`` will be valid manifests, however, we'll stick to the current manifest for this tutorial to avoid confusion. "
   ]
  },
  {
   "cell_type": "code",
   "execution_count": null,
   "metadata": {
    "tags": []
   },
   "outputs": [],
   "source": [
    "abc_cache.load_manifest('releases/20230630/manifest.json')\n",
    "print(\"old manifest loaded:\", abc_cache.current_manifest)\n",
    "\n",
    "# Return to the latest manifest\n",
    "abc_cache.load_latest_manifest()\n",
    "print(\"after latest manifest loaded:\", abc_cache.current_manifest)"
   ]
  },
  {
   "cell_type": "markdown",
   "metadata": {},
   "source": [
    "We can list all available directories in the release we loaded using the method below. We can then list all the available data and metadata files in those directories. Note that the cache will raise an exception if the requested kind of files (data files [e.g. h5ad expression_matricies, nii.gz image_volumes] or metadata files [e.g. csv files]) are not available in the directory."
   ]
  },
  {
   "cell_type": "code",
   "execution_count": 5,
   "metadata": {},
   "outputs": [
    {
     "data": {
      "text/plain": [
       "['Allen-CCF-2020',\n",
       " 'MERFISH-C57BL6J-638850',\n",
       " 'MERFISH-C57BL6J-638850-CCF',\n",
       " 'MERFISH-C57BL6J-638850-imputed',\n",
       " 'MERFISH-C57BL6J-638850-sections',\n",
       " 'WHB-10Xv3',\n",
       " 'WHB-taxonomy',\n",
       " 'WMB-10X',\n",
       " 'WMB-10XMulti',\n",
       " 'WMB-10Xv2',\n",
       " 'WMB-10Xv3',\n",
       " 'WMB-neighborhoods',\n",
       " 'WMB-taxonomy',\n",
       " 'Zeng-Aging-Mouse-10Xv3',\n",
       " 'Zeng-Aging-Mouse-WMB-taxonomy',\n",
       " 'Zhuang-ABCA-1',\n",
       " 'Zhuang-ABCA-1-CCF',\n",
       " 'Zhuang-ABCA-2',\n",
       " 'Zhuang-ABCA-2-CCF',\n",
       " 'Zhuang-ABCA-3',\n",
       " 'Zhuang-ABCA-3-CCF',\n",
       " 'Zhuang-ABCA-4',\n",
       " 'Zhuang-ABCA-4-CCF']"
      ]
     },
     "execution_count": 5,
     "metadata": {},
     "output_type": "execute_result"
    }
   ],
   "source": [
    "abc_cache.list_directories"
   ]
  },
  {
   "cell_type": "code",
   "execution_count": 6,
   "metadata": {},
   "outputs": [
    {
     "data": {
      "text/plain": [
       "['WMB-10Xv3-CB/log2',\n",
       " 'WMB-10Xv3-CB/raw',\n",
       " 'WMB-10Xv3-CTXsp/log2',\n",
       " 'WMB-10Xv3-CTXsp/raw',\n",
       " 'WMB-10Xv3-HPF/log2',\n",
       " 'WMB-10Xv3-HPF/raw',\n",
       " 'WMB-10Xv3-HY/log2',\n",
       " 'WMB-10Xv3-HY/raw',\n",
       " 'WMB-10Xv3-Isocortex-1/log2',\n",
       " 'WMB-10Xv3-Isocortex-1/raw',\n",
       " 'WMB-10Xv3-Isocortex-2/log2',\n",
       " 'WMB-10Xv3-Isocortex-2/raw',\n",
       " 'WMB-10Xv3-MB/log2',\n",
       " 'WMB-10Xv3-MB/raw',\n",
       " 'WMB-10Xv3-MY/log2',\n",
       " 'WMB-10Xv3-MY/raw',\n",
       " 'WMB-10Xv3-OLF/log2',\n",
       " 'WMB-10Xv3-OLF/raw',\n",
       " 'WMB-10Xv3-P/log2',\n",
       " 'WMB-10Xv3-P/raw',\n",
       " 'WMB-10Xv3-PAL/log2',\n",
       " 'WMB-10Xv3-PAL/raw',\n",
       " 'WMB-10Xv3-STR/log2',\n",
       " 'WMB-10Xv3-STR/raw',\n",
       " 'WMB-10Xv3-TH/log2',\n",
       " 'WMB-10Xv3-TH/raw']"
      ]
     },
     "execution_count": 6,
     "metadata": {},
     "output_type": "execute_result"
    }
   ],
   "source": [
    "abc_cache.list_data_files('WMB-10Xv3')"
   ]
  },
  {
   "cell_type": "code",
   "execution_count": 7,
   "metadata": {},
   "outputs": [
    {
     "data": {
      "text/plain": [
       "['cluster',\n",
       " 'cluster_annotation_term',\n",
       " 'cluster_annotation_term_set',\n",
       " 'cluster_annotation_term_with_counts',\n",
       " 'cluster_to_cluster_annotation_membership',\n",
       " 'cluster_to_cluster_annotation_membership_color',\n",
       " 'cluster_to_cluster_annotation_membership_pivoted']"
      ]
     },
     "execution_count": 7,
     "metadata": {},
     "output_type": "execute_result"
    }
   ],
   "source": [
    "abc_cache.list_metadata_files('WMB-taxonomy')"
   ]
  },
  {
   "cell_type": "markdown",
   "metadata": {},
   "source": [
    "Before we start downloading data, we can check how much total data is in a given directory for both data files and metadata files."
   ]
  },
  {
   "cell_type": "code",
   "execution_count": 8,
   "metadata": {},
   "outputs": [
    {
     "data": {
      "text/plain": [
       "'176.41 GB'"
      ]
     },
     "execution_count": 8,
     "metadata": {},
     "output_type": "execute_result"
    }
   ],
   "source": [
    "abc_cache.get_directory_data_size('WMB-10Xv3')"
   ]
  },
  {
   "cell_type": "code",
   "execution_count": 9,
   "metadata": {},
   "outputs": [
    {
     "data": {
      "text/plain": [
       "'4.65 MB'"
      ]
     },
     "execution_count": 9,
     "metadata": {},
     "output_type": "execute_result"
    }
   ],
   "source": [
    "abc_cache.get_directory_metadata_size('WMB-taxonomy')"
   ]
  },
  {
   "cell_type": "markdown",
   "metadata": {},
   "source": [
    "## Downloading files\n",
    "\n",
    "The next set of examples shows how to download data to the directory you specified when setting up the cache object. There are two main ways of downloading the data: individually by file or by full directory."
   ]
  },
  {
   "cell_type": "markdown",
   "metadata": {},
   "source": [
    "### Downloading all data files or metadata files in a directory.\n",
    "\n",
    "Here we show how one can download the full set of data files or metadata files contained in a directory in the release. Use the ``list_directories`` as a guide here as to what data is available. Here we download all the data in two directories we know to be small. Once the download of all files is complete, a list of Paths to the downloaded files is returned.\n",
    "\n",
    "The user should be warned that several directories are significant in size, >100 GB. If a directory is over 10 GB in size total, the cache will warn the user when requesting to download the data in the directory."
   ]
  },
  {
   "cell_type": "code",
   "execution_count": 10,
   "metadata": {},
   "outputs": [
    {
     "name": "stderr",
     "output_type": "stream",
     "text": [
      "annotation_10.nii.gz: 100%|██████████| 27.5M/27.5M [00:04<00:00, 6.52MMB/s]  \n",
      "annotation_boundary_10.nii.gz: 100%|██████████| 27.4M/27.4M [00:01<00:00, 27.4MMB/s]\n",
      "average_template_10.nii.gz: 100%|██████████| 343M/343M [00:23<00:00, 14.3MMB/s]    "
     ]
    },
    {
     "name": "stdout",
     "output_type": "stream",
     "text": [
      "Allen-CCF-2020 data files:\n",
      "\t [PosixPath('/data/scRNA/ABCA/AIBS/AWS/image_volumes/Allen-CCF-2020/20230630/annotation_10.nii.gz'), PosixPath('/data/scRNA/ABCA/AIBS/AWS/image_volumes/Allen-CCF-2020/20230630/annotation_boundary_10.nii.gz'), PosixPath('/data/scRNA/ABCA/AIBS/AWS/image_volumes/Allen-CCF-2020/20230630/average_template_10.nii.gz')]\n"
     ]
    },
    {
     "name": "stderr",
     "output_type": "stream",
     "text": [
      "\n"
     ]
    }
   ],
   "source": [
    "allen_ccf_list = abc_cache.get_directory_data('Allen-CCF-2020')\n",
    "print(\"Allen-CCF-2020 data files:\\n\\t\", allen_ccf_list)"
   ]
  },
  {
   "cell_type": "code",
   "execution_count": 11,
   "metadata": {},
   "outputs": [
    {
     "name": "stderr",
     "output_type": "stream",
     "text": [
      "cluster.csv: 100%|██████████| 131k/131k [00:00<00:00, 528kMB/s]  \n",
      "cluster_annotation_term.csv: 100%|██████████| 861k/861k [00:00<00:00, 3.45MMB/s] \n",
      "cluster_annotation_term_set.csv: 100%|██████████| 1.11k/1.11k [00:00<00:00, 12.5kMB/s]\n",
      "cluster_annotation_term_with_counts.csv: 100%|██████████| 902k/902k [00:00<00:00, 4.24MMB/s] \n",
      "cluster_to_cluster_annotation_membership.csv: 100%|██████████| 2.21M/2.21M [00:00<00:00, 11.2MMB/s]\n",
      "cluster_to_cluster_annotation_membership_color.csv: 100%|██████████| 239k/239k [00:00<00:00, 1.46MMB/s] \n",
      "cluster_to_cluster_annotation_membership_pivoted.csv: 100%|██████████| 531k/531k [00:00<00:00, 3.54MMB/s] "
     ]
    },
    {
     "name": "stdout",
     "output_type": "stream",
     "text": [
      "WMB-taxonomy metadata files:\n",
      "\t [PosixPath('/data/scRNA/ABCA/AIBS/AWS/metadata/WMB-taxonomy/20231215/cluster.csv'), PosixPath('/data/scRNA/ABCA/AIBS/AWS/metadata/WMB-taxonomy/20231215/cluster_annotation_term.csv'), PosixPath('/data/scRNA/ABCA/AIBS/AWS/metadata/WMB-taxonomy/20231215/cluster_annotation_term_set.csv'), PosixPath('/data/scRNA/ABCA/AIBS/AWS/metadata/WMB-taxonomy/20231215/views/cluster_annotation_term_with_counts.csv'), PosixPath('/data/scRNA/ABCA/AIBS/AWS/metadata/WMB-taxonomy/20231215/cluster_to_cluster_annotation_membership.csv'), PosixPath('/data/scRNA/ABCA/AIBS/AWS/metadata/WMB-taxonomy/20231215/views/cluster_to_cluster_annotation_membership_color.csv'), PosixPath('/data/scRNA/ABCA/AIBS/AWS/metadata/WMB-taxonomy/20231215/views/cluster_to_cluster_annotation_membership_pivoted.csv')]\n"
     ]
    },
    {
     "name": "stderr",
     "output_type": "stream",
     "text": [
      "\n"
     ]
    }
   ],
   "source": [
    "allen_ccf_list = abc_cache.get_directory_metadata('WMB-taxonomy')\n",
    "print(\"WMB-taxonomy metadata files:\\n\\t\", allen_ccf_list)"
   ]
  },
  {
   "cell_type": "markdown",
   "metadata": {},
   "source": [
    "Note that, after downloading the file successfully, running the ``get_directory_data`` or ``get_directory_metadata`` methods will return the list of the local paths without having to redownload the files."
   ]
  },
  {
   "cell_type": "code",
   "execution_count": null,
   "metadata": {},
   "outputs": [
    {
     "name": "stdout",
     "output_type": "stream",
     "text": [
      "Allen-CCF-2020 data files:\n",
      "\t [PosixPath('/data/scRNA/ABCA/AIBS/AWS/image_volumes/Allen-CCF-2020/20230630/annotation_10.nii.gz'), PosixPath('/data/scRNA/ABCA/AIBS/AWS/image_volumes/Allen-CCF-2020/20230630/annotation_boundary_10.nii.gz'), PosixPath('/data/scRNA/ABCA/AIBS/AWS/image_volumes/Allen-CCF-2020/20230630/average_template_10.nii.gz')] \n",
      "\n",
      "\n",
      "WMB-taxonomy metadata files:\n",
      "\t [PosixPath('/data/scRNA/ABCA/AIBS/AWS/metadata/WMB-taxonomy/20231215/cluster.csv'), PosixPath('/data/scRNA/ABCA/AIBS/AWS/metadata/WMB-taxonomy/20231215/cluster_annotation_term.csv'), PosixPath('/data/scRNA/ABCA/AIBS/AWS/metadata/WMB-taxonomy/20231215/cluster_annotation_term_set.csv'), PosixPath('/data/scRNA/ABCA/AIBS/AWS/metadata/WMB-taxonomy/20231215/views/cluster_annotation_term_with_counts.csv'), PosixPath('/data/scRNA/ABCA/AIBS/AWS/metadata/WMB-taxonomy/20231215/cluster_to_cluster_annotation_membership.csv'), PosixPath('/data/scRNA/ABCA/AIBS/AWS/metadata/WMB-taxonomy/20231215/views/cluster_to_cluster_annotation_membership_color.csv'), PosixPath('/data/scRNA/ABCA/AIBS/AWS/metadata/WMB-taxonomy/20231215/views/cluster_to_cluster_annotation_membership_pivoted.csv')]\n"
     ]
    }
   ],
   "source": [
    "allen_ccf_list = abc_cache.get_directory_data('Allen-CCF-2020')\n",
    "print(\"Allen-CCF-2020 data files:\\n\\t\", allen_ccf_list, \"\\n\\n\")\n",
    "allen_ccf_list = abc_cache.get_directory_metadata('WMB-taxonomy')\n",
    "print(\"WMB-taxonomy metadata files:\\n\\t\", allen_ccf_list)"
   ]
  },
  {
   "cell_type": "markdown",
   "metadata": {},
   "source": [
    "### Downloading individual files.\n",
    "\n",
    "The option also exists to download files individually. We can use ``list_directories`` and the methods ``list_data_files`` and ``list_metadata_files`` to guide us as to what is available to download. Below we will download one metadata file from the WMB-10X directory/dataset and one expression matrix data file from the WMB-10XMulti directory/dataset. "
   ]
  },
  {
   "cell_type": "markdown",
   "metadata": {},
   "source": [
    "#### Downloading individual metadata files"
   ]
  },
  {
   "cell_type": "code",
   "execution_count": 13,
   "metadata": {},
   "outputs": [
    {
     "data": {
      "text/plain": [
       "['cell_metadata',\n",
       " 'cell_metadata_with_cluster_annotation',\n",
       " 'example_genes_all_cells_expression',\n",
       " 'gene',\n",
       " 'region_of_interest_metadata']"
      ]
     },
     "execution_count": 13,
     "metadata": {},
     "output_type": "execute_result"
    }
   ],
   "source": [
    "abc_cache.list_metadata_files('WMB-10X')"
   ]
  },
  {
   "cell_type": "code",
   "execution_count": 14,
   "metadata": {},
   "outputs": [
    {
     "name": "stderr",
     "output_type": "stream",
     "text": [
      "gene.csv: 100%|██████████| 2.30M/2.30M [00:00<00:00, 5.14MMB/s]\n"
     ]
    },
    {
     "data": {
      "text/plain": [
       "PosixPath('/data/scRNA/ABCA/AIBS/AWS/metadata/WMB-10X/20241115/gene.csv')"
      ]
     },
     "execution_count": 14,
     "metadata": {},
     "output_type": "execute_result"
    }
   ],
   "source": [
    "abc_cache.get_metadata_path(directory='WMB-10X', file_name='gene')"
   ]
  },
  {
   "cell_type": "code",
   "execution_count": 10,
   "metadata": {},
   "outputs": [
    {
     "data": {
      "text/plain": [
       "PosixPath('/data/scRNA/ABCA/AIBS/AWS/metadata/WMB-10X/20241115/cell_metadata.csv')"
      ]
     },
     "execution_count": 10,
     "metadata": {},
     "output_type": "execute_result"
    }
   ],
   "source": [
    "abc_cache.get_metadata_path(directory='WMB-10X', file_name='cell_metadata')"
   ]
  },
  {
   "cell_type": "code",
   "execution_count": 12,
   "metadata": {},
   "outputs": [
    {
     "name": "stderr",
     "output_type": "stream",
     "text": [
      "cell_metadata_with_cluster_annotation.csv: 100%|██████████| 1.39G/1.39G [12:42<00:00, 1.82MMB/s]    \n"
     ]
    },
    {
     "data": {
      "text/plain": [
       "PosixPath('/data/scRNA/ABCA/AIBS/AWS/metadata/WMB-10X/20241115/views/cell_metadata_with_cluster_annotation.csv')"
      ]
     },
     "execution_count": 12,
     "metadata": {},
     "output_type": "execute_result"
    }
   ],
   "source": [
    "abc_cache.get_metadata_path(directory='WMB-10X', file_name='cell_metadata_with_cluster_annotation')"
   ]
  },
  {
   "cell_type": "markdown",
   "metadata": {},
   "source": [
    "The cache can also return a dataframe for metadata objects. They are loaded with a generic index. Note that when using this method, it can accept additional argments that will be passed to the [pandas.read_csv](https://pandas.pydata.org/docs/reference/api/pandas.read_csv.html) method. Examples of this are used throughout the notebooks in this repo."
   ]
  },
  {
   "cell_type": "code",
   "execution_count": 13,
   "metadata": {},
   "outputs": [
    {
     "data": {
      "text/html": [
       "<div>\n",
       "<style scoped>\n",
       "    .dataframe tbody tr th:only-of-type {\n",
       "        vertical-align: middle;\n",
       "    }\n",
       "\n",
       "    .dataframe tbody tr th {\n",
       "        vertical-align: top;\n",
       "    }\n",
       "\n",
       "    .dataframe thead th {\n",
       "        text-align: right;\n",
       "    }\n",
       "</style>\n",
       "<table border=\"1\" class=\"dataframe\">\n",
       "  <thead>\n",
       "    <tr style=\"text-align: right;\">\n",
       "      <th></th>\n",
       "      <th>gene_identifier</th>\n",
       "      <th>gene_symbol</th>\n",
       "      <th>name</th>\n",
       "      <th>mapped_ncbi_identifier</th>\n",
       "      <th>comment</th>\n",
       "    </tr>\n",
       "  </thead>\n",
       "  <tbody>\n",
       "    <tr>\n",
       "      <th>0</th>\n",
       "      <td>ENSMUSG00000051951</td>\n",
       "      <td>Xkr4</td>\n",
       "      <td>X-linked Kx blood group related 4</td>\n",
       "      <td>NCBIGene:497097</td>\n",
       "      <td>NaN</td>\n",
       "    </tr>\n",
       "    <tr>\n",
       "      <th>1</th>\n",
       "      <td>ENSMUSG00000089699</td>\n",
       "      <td>Gm1992</td>\n",
       "      <td>predicted gene 1992</td>\n",
       "      <td>NaN</td>\n",
       "      <td>NaN</td>\n",
       "    </tr>\n",
       "    <tr>\n",
       "      <th>2</th>\n",
       "      <td>ENSMUSG00000102331</td>\n",
       "      <td>Gm19938</td>\n",
       "      <td>predicted gene, 19938</td>\n",
       "      <td>NaN</td>\n",
       "      <td>NaN</td>\n",
       "    </tr>\n",
       "    <tr>\n",
       "      <th>3</th>\n",
       "      <td>ENSMUSG00000102343</td>\n",
       "      <td>Gm37381</td>\n",
       "      <td>predicted gene, 37381</td>\n",
       "      <td>NaN</td>\n",
       "      <td>NaN</td>\n",
       "    </tr>\n",
       "    <tr>\n",
       "      <th>4</th>\n",
       "      <td>ENSMUSG00000025900</td>\n",
       "      <td>Rp1</td>\n",
       "      <td>retinitis pigmentosa 1 (human)</td>\n",
       "      <td>NCBIGene:19888</td>\n",
       "      <td>NaN</td>\n",
       "    </tr>\n",
       "    <tr>\n",
       "      <th>...</th>\n",
       "      <td>...</td>\n",
       "      <td>...</td>\n",
       "      <td>...</td>\n",
       "      <td>...</td>\n",
       "      <td>...</td>\n",
       "    </tr>\n",
       "    <tr>\n",
       "      <th>32280</th>\n",
       "      <td>ENSMUSG00000095523</td>\n",
       "      <td>AC124606.1</td>\n",
       "      <td>PRAME family member 8-like</td>\n",
       "      <td>NCBIGene:100038995</td>\n",
       "      <td>no expression</td>\n",
       "    </tr>\n",
       "    <tr>\n",
       "      <th>32281</th>\n",
       "      <td>ENSMUSG00000095475</td>\n",
       "      <td>AC133095.2</td>\n",
       "      <td>uncharacterized LOC545763</td>\n",
       "      <td>NCBIGene:545763</td>\n",
       "      <td>no expression</td>\n",
       "    </tr>\n",
       "    <tr>\n",
       "      <th>32282</th>\n",
       "      <td>ENSMUSG00000094855</td>\n",
       "      <td>AC133095.1</td>\n",
       "      <td>uncharacterized LOC620639</td>\n",
       "      <td>NCBIGene:620639</td>\n",
       "      <td>no expression</td>\n",
       "    </tr>\n",
       "    <tr>\n",
       "      <th>32283</th>\n",
       "      <td>ENSMUSG00000095019</td>\n",
       "      <td>AC234645.1</td>\n",
       "      <td>NaN</td>\n",
       "      <td>NaN</td>\n",
       "      <td>no expression</td>\n",
       "    </tr>\n",
       "    <tr>\n",
       "      <th>32284</th>\n",
       "      <td>ENSMUSG00000095041</td>\n",
       "      <td>AC149090.1</td>\n",
       "      <td>NaN</td>\n",
       "      <td>NaN</td>\n",
       "      <td>NaN</td>\n",
       "    </tr>\n",
       "  </tbody>\n",
       "</table>\n",
       "<p>32285 rows × 5 columns</p>\n",
       "</div>"
      ],
      "text/plain": [
       "          gene_identifier gene_symbol                               name  \\\n",
       "0      ENSMUSG00000051951        Xkr4  X-linked Kx blood group related 4   \n",
       "1      ENSMUSG00000089699      Gm1992                predicted gene 1992   \n",
       "2      ENSMUSG00000102331     Gm19938              predicted gene, 19938   \n",
       "3      ENSMUSG00000102343     Gm37381              predicted gene, 37381   \n",
       "4      ENSMUSG00000025900         Rp1     retinitis pigmentosa 1 (human)   \n",
       "...                   ...         ...                                ...   \n",
       "32280  ENSMUSG00000095523  AC124606.1         PRAME family member 8-like   \n",
       "32281  ENSMUSG00000095475  AC133095.2          uncharacterized LOC545763   \n",
       "32282  ENSMUSG00000094855  AC133095.1          uncharacterized LOC620639   \n",
       "32283  ENSMUSG00000095019  AC234645.1                                NaN   \n",
       "32284  ENSMUSG00000095041  AC149090.1                                NaN   \n",
       "\n",
       "      mapped_ncbi_identifier        comment  \n",
       "0            NCBIGene:497097            NaN  \n",
       "1                        NaN            NaN  \n",
       "2                        NaN            NaN  \n",
       "3                        NaN            NaN  \n",
       "4             NCBIGene:19888            NaN  \n",
       "...                      ...            ...  \n",
       "32280     NCBIGene:100038995  no expression  \n",
       "32281        NCBIGene:545763  no expression  \n",
       "32282        NCBIGene:620639  no expression  \n",
       "32283                    NaN  no expression  \n",
       "32284                    NaN            NaN  \n",
       "\n",
       "[32285 rows x 5 columns]"
      ]
     },
     "execution_count": 13,
     "metadata": {},
     "output_type": "execute_result"
    }
   ],
   "source": [
    "abc_cache.get_metadata_dataframe(directory='WMB-10X', file_name='gene')"
   ]
  },
  {
   "cell_type": "code",
   "execution_count": 14,
   "metadata": {},
   "outputs": [
    {
     "name": "stderr",
     "output_type": "stream",
     "text": [
      "/home/momo/miniforge3/envs/abca-env/lib/python3.10/site-packages/abc_atlas_access/abc_atlas_cache/abc_project_cache.py:429: DtypeWarning: Columns (16) have mixed types. Specify dtype option on import or set low_memory=False.\n",
      "  return pd.read_csv(path, **kwargs)\n"
     ]
    },
    {
     "data": {
      "text/html": [
       "<div>\n",
       "<style scoped>\n",
       "    .dataframe tbody tr th:only-of-type {\n",
       "        vertical-align: middle;\n",
       "    }\n",
       "\n",
       "    .dataframe tbody tr th {\n",
       "        vertical-align: top;\n",
       "    }\n",
       "\n",
       "    .dataframe thead th {\n",
       "        text-align: right;\n",
       "    }\n",
       "</style>\n",
       "<table border=\"1\" class=\"dataframe\">\n",
       "  <thead>\n",
       "    <tr style=\"text-align: right;\">\n",
       "      <th></th>\n",
       "      <th>cell_label</th>\n",
       "      <th>cell_barcode</th>\n",
       "      <th>barcoded_cell_sample_label</th>\n",
       "      <th>library_label</th>\n",
       "      <th>feature_matrix_label</th>\n",
       "      <th>entity</th>\n",
       "      <th>brain_section_label</th>\n",
       "      <th>library_method</th>\n",
       "      <th>region_of_interest_acronym</th>\n",
       "      <th>donor_label</th>\n",
       "      <th>...</th>\n",
       "      <th>subclass</th>\n",
       "      <th>supertype</th>\n",
       "      <th>cluster</th>\n",
       "      <th>neurotransmitter_color</th>\n",
       "      <th>class_color</th>\n",
       "      <th>subclass_color</th>\n",
       "      <th>supertype_color</th>\n",
       "      <th>cluster_color</th>\n",
       "      <th>region_of_interest_order</th>\n",
       "      <th>region_of_interest_color</th>\n",
       "    </tr>\n",
       "  </thead>\n",
       "  <tbody>\n",
       "    <tr>\n",
       "      <th>0</th>\n",
       "      <td>GCGAGAAGTTAAGGGC-410_B05</td>\n",
       "      <td>GCGAGAAGTTAAGGGC</td>\n",
       "      <td>410_B05</td>\n",
       "      <td>L8TX_201030_01_C12</td>\n",
       "      <td>WMB-10Xv3-HPF</td>\n",
       "      <td>cell</td>\n",
       "      <td>NaN</td>\n",
       "      <td>10Xv3</td>\n",
       "      <td>RHP</td>\n",
       "      <td>Snap25-IRES2-Cre;Ai14-550850</td>\n",
       "      <td>...</td>\n",
       "      <td>018 L2 IT PPP-APr Glut</td>\n",
       "      <td>0082 L2 IT PPP-APr Glut_3</td>\n",
       "      <td>0326 L2 IT PPP-APr Glut_3</td>\n",
       "      <td>#2B93DF</td>\n",
       "      <td>#FA0087</td>\n",
       "      <td>#0F6632</td>\n",
       "      <td>#266DFF</td>\n",
       "      <td>#64661F</td>\n",
       "      <td>15</td>\n",
       "      <td>#CCB05C</td>\n",
       "    </tr>\n",
       "    <tr>\n",
       "      <th>1</th>\n",
       "      <td>AATGGCTCAGCTCCTT-411_B06</td>\n",
       "      <td>AATGGCTCAGCTCCTT</td>\n",
       "      <td>411_B06</td>\n",
       "      <td>L8TX_201029_01_E10</td>\n",
       "      <td>WMB-10Xv3-HPF</td>\n",
       "      <td>cell</td>\n",
       "      <td>NaN</td>\n",
       "      <td>10Xv3</td>\n",
       "      <td>RHP</td>\n",
       "      <td>Snap25-IRES2-Cre;Ai14-550851</td>\n",
       "      <td>...</td>\n",
       "      <td>018 L2 IT PPP-APr Glut</td>\n",
       "      <td>0082 L2 IT PPP-APr Glut_3</td>\n",
       "      <td>0326 L2 IT PPP-APr Glut_3</td>\n",
       "      <td>#2B93DF</td>\n",
       "      <td>#FA0087</td>\n",
       "      <td>#0F6632</td>\n",
       "      <td>#266DFF</td>\n",
       "      <td>#64661F</td>\n",
       "      <td>15</td>\n",
       "      <td>#CCB05C</td>\n",
       "    </tr>\n",
       "    <tr>\n",
       "      <th>2</th>\n",
       "      <td>AACACACGTTGCTTGA-410_B05</td>\n",
       "      <td>AACACACGTTGCTTGA</td>\n",
       "      <td>410_B05</td>\n",
       "      <td>L8TX_201030_01_C12</td>\n",
       "      <td>WMB-10Xv3-HPF</td>\n",
       "      <td>cell</td>\n",
       "      <td>NaN</td>\n",
       "      <td>10Xv3</td>\n",
       "      <td>RHP</td>\n",
       "      <td>Snap25-IRES2-Cre;Ai14-550850</td>\n",
       "      <td>...</td>\n",
       "      <td>018 L2 IT PPP-APr Glut</td>\n",
       "      <td>0082 L2 IT PPP-APr Glut_3</td>\n",
       "      <td>0326 L2 IT PPP-APr Glut_3</td>\n",
       "      <td>#2B93DF</td>\n",
       "      <td>#FA0087</td>\n",
       "      <td>#0F6632</td>\n",
       "      <td>#266DFF</td>\n",
       "      <td>#64661F</td>\n",
       "      <td>15</td>\n",
       "      <td>#CCB05C</td>\n",
       "    </tr>\n",
       "    <tr>\n",
       "      <th>3</th>\n",
       "      <td>CACAGATAGAGGCGGA-410_A05</td>\n",
       "      <td>CACAGATAGAGGCGGA</td>\n",
       "      <td>410_A05</td>\n",
       "      <td>L8TX_201029_01_A10</td>\n",
       "      <td>WMB-10Xv3-HPF</td>\n",
       "      <td>cell</td>\n",
       "      <td>NaN</td>\n",
       "      <td>10Xv3</td>\n",
       "      <td>RHP</td>\n",
       "      <td>Snap25-IRES2-Cre;Ai14-550850</td>\n",
       "      <td>...</td>\n",
       "      <td>018 L2 IT PPP-APr Glut</td>\n",
       "      <td>0082 L2 IT PPP-APr Glut_3</td>\n",
       "      <td>0326 L2 IT PPP-APr Glut_3</td>\n",
       "      <td>#2B93DF</td>\n",
       "      <td>#FA0087</td>\n",
       "      <td>#0F6632</td>\n",
       "      <td>#266DFF</td>\n",
       "      <td>#64661F</td>\n",
       "      <td>15</td>\n",
       "      <td>#CCB05C</td>\n",
       "    </tr>\n",
       "    <tr>\n",
       "      <th>4</th>\n",
       "      <td>AAAGTGAAGCATTTCG-410_B05</td>\n",
       "      <td>AAAGTGAAGCATTTCG</td>\n",
       "      <td>410_B05</td>\n",
       "      <td>L8TX_201030_01_C12</td>\n",
       "      <td>WMB-10Xv3-HPF</td>\n",
       "      <td>cell</td>\n",
       "      <td>NaN</td>\n",
       "      <td>10Xv3</td>\n",
       "      <td>RHP</td>\n",
       "      <td>Snap25-IRES2-Cre;Ai14-550850</td>\n",
       "      <td>...</td>\n",
       "      <td>018 L2 IT PPP-APr Glut</td>\n",
       "      <td>0082 L2 IT PPP-APr Glut_3</td>\n",
       "      <td>0326 L2 IT PPP-APr Glut_3</td>\n",
       "      <td>#2B93DF</td>\n",
       "      <td>#FA0087</td>\n",
       "      <td>#0F6632</td>\n",
       "      <td>#266DFF</td>\n",
       "      <td>#64661F</td>\n",
       "      <td>15</td>\n",
       "      <td>#CCB05C</td>\n",
       "    </tr>\n",
       "    <tr>\n",
       "      <th>...</th>\n",
       "      <td>...</td>\n",
       "      <td>...</td>\n",
       "      <td>...</td>\n",
       "      <td>...</td>\n",
       "      <td>...</td>\n",
       "      <td>...</td>\n",
       "      <td>...</td>\n",
       "      <td>...</td>\n",
       "      <td>...</td>\n",
       "      <td>...</td>\n",
       "      <td>...</td>\n",
       "      <td>...</td>\n",
       "      <td>...</td>\n",
       "      <td>...</td>\n",
       "      <td>...</td>\n",
       "      <td>...</td>\n",
       "      <td>...</td>\n",
       "      <td>...</td>\n",
       "      <td>...</td>\n",
       "      <td>...</td>\n",
       "      <td>...</td>\n",
       "    </tr>\n",
       "    <tr>\n",
       "      <th>4042971</th>\n",
       "      <td>GTGTGAGCAAACGCGA-1350_C05</td>\n",
       "      <td>GTGTGAGCAAACGCGA</td>\n",
       "      <td>1350_C05</td>\n",
       "      <td>L8XR_220728_01_A05</td>\n",
       "      <td>WMB-10XMulti</td>\n",
       "      <td>cell</td>\n",
       "      <td>NaN</td>\n",
       "      <td>10xRSeq_Mult</td>\n",
       "      <td>MB</td>\n",
       "      <td>C57BL6J-641405</td>\n",
       "      <td>...</td>\n",
       "      <td>278 NLL Gata3 Gly-Gaba</td>\n",
       "      <td>1074 NLL Gata3 Gly-Gaba_1</td>\n",
       "      <td>4804 NLL Gata3 Gly-Gaba_1</td>\n",
       "      <td>#820e57</td>\n",
       "      <td>#72195a</td>\n",
       "      <td>#E57300</td>\n",
       "      <td>#a4fcb2</td>\n",
       "      <td>#C7CC7A</td>\n",
       "      <td>25</td>\n",
       "      <td>#CC5CB0</td>\n",
       "    </tr>\n",
       "    <tr>\n",
       "      <th>4042972</th>\n",
       "      <td>TTAGCAATCCCTGTTA-1350_C05</td>\n",
       "      <td>TTAGCAATCCCTGTTA</td>\n",
       "      <td>1350_C05</td>\n",
       "      <td>L8XR_220728_01_A05</td>\n",
       "      <td>WMB-10XMulti</td>\n",
       "      <td>cell</td>\n",
       "      <td>NaN</td>\n",
       "      <td>10xRSeq_Mult</td>\n",
       "      <td>MB</td>\n",
       "      <td>C57BL6J-641405</td>\n",
       "      <td>...</td>\n",
       "      <td>157 RN Spp1 Glut</td>\n",
       "      <td>0682 RN Spp1 Glut_1</td>\n",
       "      <td>2761 RN Spp1 Glut_1</td>\n",
       "      <td>#2B93DF</td>\n",
       "      <td>#007200</td>\n",
       "      <td>#FF514D</td>\n",
       "      <td>#BA1FCC</td>\n",
       "      <td>#3DCC44</td>\n",
       "      <td>25</td>\n",
       "      <td>#CC5CB0</td>\n",
       "    </tr>\n",
       "    <tr>\n",
       "      <th>4042973</th>\n",
       "      <td>TTTGGCTGTCGCGCAA-1350_C05</td>\n",
       "      <td>TTTGGCTGTCGCGCAA</td>\n",
       "      <td>1350_C05</td>\n",
       "      <td>L8XR_220728_01_A05</td>\n",
       "      <td>WMB-10XMulti</td>\n",
       "      <td>cell</td>\n",
       "      <td>NaN</td>\n",
       "      <td>10xRSeq_Mult</td>\n",
       "      <td>MB</td>\n",
       "      <td>C57BL6J-641405</td>\n",
       "      <td>...</td>\n",
       "      <td>278 NLL Gata3 Gly-Gaba</td>\n",
       "      <td>1076 NLL Gata3 Gly-Gaba_3</td>\n",
       "      <td>4806 NLL Gata3 Gly-Gaba_3</td>\n",
       "      <td>#820e57</td>\n",
       "      <td>#72195a</td>\n",
       "      <td>#E57300</td>\n",
       "      <td>#76CC00</td>\n",
       "      <td>#FF00CA</td>\n",
       "      <td>25</td>\n",
       "      <td>#CC5CB0</td>\n",
       "    </tr>\n",
       "    <tr>\n",
       "      <th>4042974</th>\n",
       "      <td>ATCCACCTCACAGACT-1320_B04</td>\n",
       "      <td>ATCCACCTCACAGACT</td>\n",
       "      <td>1320_B04</td>\n",
       "      <td>L8XR_220630_02_B10</td>\n",
       "      <td>WMB-10XMulti</td>\n",
       "      <td>cell</td>\n",
       "      <td>NaN</td>\n",
       "      <td>10xRSeq_Mult</td>\n",
       "      <td>OLF</td>\n",
       "      <td>C57BL6J-625156</td>\n",
       "      <td>...</td>\n",
       "      <td>278 NLL Gata3 Gly-Gaba</td>\n",
       "      <td>1076 NLL Gata3 Gly-Gaba_3</td>\n",
       "      <td>4806 NLL Gata3 Gly-Gaba_3</td>\n",
       "      <td>#820e57</td>\n",
       "      <td>#72195a</td>\n",
       "      <td>#E57300</td>\n",
       "      <td>#76CC00</td>\n",
       "      <td>#FF00CA</td>\n",
       "      <td>13</td>\n",
       "      <td>#FF7373</td>\n",
       "    </tr>\n",
       "    <tr>\n",
       "      <th>4042975</th>\n",
       "      <td>TCGTTAGCATTGTCCT-1320_B04</td>\n",
       "      <td>TCGTTAGCATTGTCCT</td>\n",
       "      <td>1320_B04</td>\n",
       "      <td>L8XR_220630_02_B10</td>\n",
       "      <td>WMB-10XMulti</td>\n",
       "      <td>cell</td>\n",
       "      <td>NaN</td>\n",
       "      <td>10xRSeq_Mult</td>\n",
       "      <td>OLF</td>\n",
       "      <td>C57BL6J-625156</td>\n",
       "      <td>...</td>\n",
       "      <td>278 NLL Gata3 Gly-Gaba</td>\n",
       "      <td>1076 NLL Gata3 Gly-Gaba_3</td>\n",
       "      <td>4806 NLL Gata3 Gly-Gaba_3</td>\n",
       "      <td>#820e57</td>\n",
       "      <td>#72195a</td>\n",
       "      <td>#E57300</td>\n",
       "      <td>#76CC00</td>\n",
       "      <td>#FF00CA</td>\n",
       "      <td>13</td>\n",
       "      <td>#FF7373</td>\n",
       "    </tr>\n",
       "  </tbody>\n",
       "</table>\n",
       "<p>4042976 rows × 28 columns</p>\n",
       "</div>"
      ],
      "text/plain": [
       "                        cell_label      cell_barcode  \\\n",
       "0         GCGAGAAGTTAAGGGC-410_B05  GCGAGAAGTTAAGGGC   \n",
       "1         AATGGCTCAGCTCCTT-411_B06  AATGGCTCAGCTCCTT   \n",
       "2         AACACACGTTGCTTGA-410_B05  AACACACGTTGCTTGA   \n",
       "3         CACAGATAGAGGCGGA-410_A05  CACAGATAGAGGCGGA   \n",
       "4         AAAGTGAAGCATTTCG-410_B05  AAAGTGAAGCATTTCG   \n",
       "...                            ...               ...   \n",
       "4042971  GTGTGAGCAAACGCGA-1350_C05  GTGTGAGCAAACGCGA   \n",
       "4042972  TTAGCAATCCCTGTTA-1350_C05  TTAGCAATCCCTGTTA   \n",
       "4042973  TTTGGCTGTCGCGCAA-1350_C05  TTTGGCTGTCGCGCAA   \n",
       "4042974  ATCCACCTCACAGACT-1320_B04  ATCCACCTCACAGACT   \n",
       "4042975  TCGTTAGCATTGTCCT-1320_B04  TCGTTAGCATTGTCCT   \n",
       "\n",
       "        barcoded_cell_sample_label       library_label feature_matrix_label  \\\n",
       "0                          410_B05  L8TX_201030_01_C12        WMB-10Xv3-HPF   \n",
       "1                          411_B06  L8TX_201029_01_E10        WMB-10Xv3-HPF   \n",
       "2                          410_B05  L8TX_201030_01_C12        WMB-10Xv3-HPF   \n",
       "3                          410_A05  L8TX_201029_01_A10        WMB-10Xv3-HPF   \n",
       "4                          410_B05  L8TX_201030_01_C12        WMB-10Xv3-HPF   \n",
       "...                            ...                 ...                  ...   \n",
       "4042971                   1350_C05  L8XR_220728_01_A05         WMB-10XMulti   \n",
       "4042972                   1350_C05  L8XR_220728_01_A05         WMB-10XMulti   \n",
       "4042973                   1350_C05  L8XR_220728_01_A05         WMB-10XMulti   \n",
       "4042974                   1320_B04  L8XR_220630_02_B10         WMB-10XMulti   \n",
       "4042975                   1320_B04  L8XR_220630_02_B10         WMB-10XMulti   \n",
       "\n",
       "        entity  brain_section_label library_method region_of_interest_acronym  \\\n",
       "0         cell                  NaN          10Xv3                        RHP   \n",
       "1         cell                  NaN          10Xv3                        RHP   \n",
       "2         cell                  NaN          10Xv3                        RHP   \n",
       "3         cell                  NaN          10Xv3                        RHP   \n",
       "4         cell                  NaN          10Xv3                        RHP   \n",
       "...        ...                  ...            ...                        ...   \n",
       "4042971   cell                  NaN   10xRSeq_Mult                         MB   \n",
       "4042972   cell                  NaN   10xRSeq_Mult                         MB   \n",
       "4042973   cell                  NaN   10xRSeq_Mult                         MB   \n",
       "4042974   cell                  NaN   10xRSeq_Mult                        OLF   \n",
       "4042975   cell                  NaN   10xRSeq_Mult                        OLF   \n",
       "\n",
       "                          donor_label  ...                subclass  \\\n",
       "0        Snap25-IRES2-Cre;Ai14-550850  ...  018 L2 IT PPP-APr Glut   \n",
       "1        Snap25-IRES2-Cre;Ai14-550851  ...  018 L2 IT PPP-APr Glut   \n",
       "2        Snap25-IRES2-Cre;Ai14-550850  ...  018 L2 IT PPP-APr Glut   \n",
       "3        Snap25-IRES2-Cre;Ai14-550850  ...  018 L2 IT PPP-APr Glut   \n",
       "4        Snap25-IRES2-Cre;Ai14-550850  ...  018 L2 IT PPP-APr Glut   \n",
       "...                               ...  ...                     ...   \n",
       "4042971                C57BL6J-641405  ...  278 NLL Gata3 Gly-Gaba   \n",
       "4042972                C57BL6J-641405  ...        157 RN Spp1 Glut   \n",
       "4042973                C57BL6J-641405  ...  278 NLL Gata3 Gly-Gaba   \n",
       "4042974                C57BL6J-625156  ...  278 NLL Gata3 Gly-Gaba   \n",
       "4042975                C57BL6J-625156  ...  278 NLL Gata3 Gly-Gaba   \n",
       "\n",
       "                         supertype                    cluster  \\\n",
       "0        0082 L2 IT PPP-APr Glut_3  0326 L2 IT PPP-APr Glut_3   \n",
       "1        0082 L2 IT PPP-APr Glut_3  0326 L2 IT PPP-APr Glut_3   \n",
       "2        0082 L2 IT PPP-APr Glut_3  0326 L2 IT PPP-APr Glut_3   \n",
       "3        0082 L2 IT PPP-APr Glut_3  0326 L2 IT PPP-APr Glut_3   \n",
       "4        0082 L2 IT PPP-APr Glut_3  0326 L2 IT PPP-APr Glut_3   \n",
       "...                            ...                        ...   \n",
       "4042971  1074 NLL Gata3 Gly-Gaba_1  4804 NLL Gata3 Gly-Gaba_1   \n",
       "4042972        0682 RN Spp1 Glut_1        2761 RN Spp1 Glut_1   \n",
       "4042973  1076 NLL Gata3 Gly-Gaba_3  4806 NLL Gata3 Gly-Gaba_3   \n",
       "4042974  1076 NLL Gata3 Gly-Gaba_3  4806 NLL Gata3 Gly-Gaba_3   \n",
       "4042975  1076 NLL Gata3 Gly-Gaba_3  4806 NLL Gata3 Gly-Gaba_3   \n",
       "\n",
       "         neurotransmitter_color  class_color  subclass_color supertype_color  \\\n",
       "0                       #2B93DF      #FA0087         #0F6632         #266DFF   \n",
       "1                       #2B93DF      #FA0087         #0F6632         #266DFF   \n",
       "2                       #2B93DF      #FA0087         #0F6632         #266DFF   \n",
       "3                       #2B93DF      #FA0087         #0F6632         #266DFF   \n",
       "4                       #2B93DF      #FA0087         #0F6632         #266DFF   \n",
       "...                         ...          ...             ...             ...   \n",
       "4042971                 #820e57      #72195a         #E57300         #a4fcb2   \n",
       "4042972                 #2B93DF      #007200         #FF514D         #BA1FCC   \n",
       "4042973                 #820e57      #72195a         #E57300         #76CC00   \n",
       "4042974                 #820e57      #72195a         #E57300         #76CC00   \n",
       "4042975                 #820e57      #72195a         #E57300         #76CC00   \n",
       "\n",
       "        cluster_color region_of_interest_order region_of_interest_color  \n",
       "0             #64661F                       15                  #CCB05C  \n",
       "1             #64661F                       15                  #CCB05C  \n",
       "2             #64661F                       15                  #CCB05C  \n",
       "3             #64661F                       15                  #CCB05C  \n",
       "4             #64661F                       15                  #CCB05C  \n",
       "...               ...                      ...                      ...  \n",
       "4042971       #C7CC7A                       25                  #CC5CB0  \n",
       "4042972       #3DCC44                       25                  #CC5CB0  \n",
       "4042973       #FF00CA                       25                  #CC5CB0  \n",
       "4042974       #FF00CA                       13                  #FF7373  \n",
       "4042975       #FF00CA                       13                  #FF7373  \n",
       "\n",
       "[4042976 rows x 28 columns]"
      ]
     },
     "execution_count": 14,
     "metadata": {},
     "output_type": "execute_result"
    }
   ],
   "source": [
    "abc_cache.get_metadata_dataframe(directory='WMB-10X', file_name='cell_metadata_with_cluster_annotation')"
   ]
  },
  {
   "cell_type": "code",
   "execution_count": null,
   "metadata": {},
   "outputs": [],
   "source": [
    "abc_cache.get_metadata_dataframe(directory='WMB-10X', file_name='cell_metadata')"
   ]
  },
  {
   "cell_type": "markdown",
   "metadata": {},
   "source": [
    "#### Downloading individual data files"
   ]
  },
  {
   "cell_type": "code",
   "execution_count": 20,
   "metadata": {},
   "outputs": [
    {
     "data": {
      "text/plain": [
       "['WMB-10Xv3-CB/log2',\n",
       " 'WMB-10Xv3-CB/raw',\n",
       " 'WMB-10Xv3-CTXsp/log2',\n",
       " 'WMB-10Xv3-CTXsp/raw',\n",
       " 'WMB-10Xv3-HPF/log2',\n",
       " 'WMB-10Xv3-HPF/raw',\n",
       " 'WMB-10Xv3-HY/log2',\n",
       " 'WMB-10Xv3-HY/raw',\n",
       " 'WMB-10Xv3-Isocortex-1/log2',\n",
       " 'WMB-10Xv3-Isocortex-1/raw',\n",
       " 'WMB-10Xv3-Isocortex-2/log2',\n",
       " 'WMB-10Xv3-Isocortex-2/raw',\n",
       " 'WMB-10Xv3-MB/log2',\n",
       " 'WMB-10Xv3-MB/raw',\n",
       " 'WMB-10Xv3-MY/log2',\n",
       " 'WMB-10Xv3-MY/raw',\n",
       " 'WMB-10Xv3-OLF/log2',\n",
       " 'WMB-10Xv3-OLF/raw',\n",
       " 'WMB-10Xv3-P/log2',\n",
       " 'WMB-10Xv3-P/raw',\n",
       " 'WMB-10Xv3-PAL/log2',\n",
       " 'WMB-10Xv3-PAL/raw',\n",
       " 'WMB-10Xv3-STR/log2',\n",
       " 'WMB-10Xv3-STR/raw',\n",
       " 'WMB-10Xv3-TH/log2',\n",
       " 'WMB-10Xv3-TH/raw']"
      ]
     },
     "execution_count": 20,
     "metadata": {},
     "output_type": "execute_result"
    }
   ],
   "source": [
    "abc_cache.list_data_files('WMB-10Xv3')"
   ]
  },
  {
   "cell_type": "markdown",
   "metadata": {},
   "source": [
    "Note how ``log2`` and ``raw`` is added to the end of the file name returned by the above function and used below. If we were not to specify this in the input, the code will throw an error describing the ambiguity."
   ]
  },
  {
   "cell_type": "code",
   "execution_count": 3,
   "metadata": {},
   "outputs": [
    {
     "name": "stderr",
     "output_type": "stream",
     "text": [
      "WMB-10Xv3-Isocortex-1-log2.h5ad: 100%|██████████| 11.8G/11.8G [2:06:19<00:00, 1.55MMB/s]  \n"
     ]
    },
    {
     "data": {
      "text/plain": [
       "PosixPath('/data/scRNA/ABCA/AIBS/AWS/expression_matrices/WMB-10Xv3/20230630/WMB-10Xv3-Isocortex-1-log2.h5ad')"
      ]
     },
     "execution_count": 3,
     "metadata": {},
     "output_type": "execute_result"
    }
   ],
   "source": [
    "abc_cache.get_data_path(directory='WMB-10Xv3', file_name='WMB-10Xv3-Isocortex-1/log2')"
   ]
  },
  {
   "cell_type": "code",
   "execution_count": null,
   "metadata": {},
   "outputs": [],
   "source": [
    "abc_cache.get_data_path(directory='WMB-10Xv3', file_name='WMB-10Xv3-CTXsp/log2')"
   ]
  },
  {
   "cell_type": "code",
   "execution_count": 22,
   "metadata": {
    "scrolled": true
   },
   "outputs": [
    {
     "name": "stderr",
     "output_type": "stream",
     "text": [
      "WMB-10Xv3-CTXsp-raw.h5ad: 100%|██████████| 3.28G/3.28G [01:41<00:00, 32.3MMB/s]    \n"
     ]
    },
    {
     "data": {
      "text/plain": [
       "PosixPath('/data/scRNA/ABCA/AIBS/AWS/expression_matrices/WMB-10Xv3/20230630/WMB-10Xv3-CTXsp-raw.h5ad')"
      ]
     },
     "execution_count": 22,
     "metadata": {},
     "output_type": "execute_result"
    }
   ],
   "source": [
    "abc_cache.get_data_path(directory='WMB-10Xv3', file_name='WMB-10Xv3-CTXsp/raw')"
   ]
  },
  {
   "cell_type": "markdown",
   "metadata": {},
   "source": [
    "### Advanced Options"
   ]
  },
  {
   "cell_type": "markdown",
   "metadata": {},
   "source": [
    "#### Forcing the cache to redownload data"
   ]
  },
  {
   "cell_type": "markdown",
   "metadata": {},
   "source": [
    "For all methods that download files, the option exists to force the cache to redownload the file(s). This can be useful if the downloaded file has become corrupted or accidentially deleted/changed. Below are examples of using it while downloading an inividual file or a full directory of files."
   ]
  },
  {
   "cell_type": "code",
   "execution_count": 19,
   "metadata": {},
   "outputs": [
    {
     "name": "stderr",
     "output_type": "stream",
     "text": [
      "gene.csv: 100%|█████████████████████████████████████████████████████████████████████████████████████████| 2.30M/2.30M [00:00<00:00, 10.6MMB/s]\n"
     ]
    },
    {
     "data": {
      "text/html": [
       "<div>\n",
       "<style scoped>\n",
       "    .dataframe tbody tr th:only-of-type {\n",
       "        vertical-align: middle;\n",
       "    }\n",
       "\n",
       "    .dataframe tbody tr th {\n",
       "        vertical-align: top;\n",
       "    }\n",
       "\n",
       "    .dataframe thead th {\n",
       "        text-align: right;\n",
       "    }\n",
       "</style>\n",
       "<table border=\"1\" class=\"dataframe\">\n",
       "  <thead>\n",
       "    <tr style=\"text-align: right;\">\n",
       "      <th></th>\n",
       "      <th>gene_identifier</th>\n",
       "      <th>gene_symbol</th>\n",
       "      <th>name</th>\n",
       "      <th>mapped_ncbi_identifier</th>\n",
       "      <th>comment</th>\n",
       "    </tr>\n",
       "  </thead>\n",
       "  <tbody>\n",
       "    <tr>\n",
       "      <th>0</th>\n",
       "      <td>ENSMUSG00000051951</td>\n",
       "      <td>Xkr4</td>\n",
       "      <td>X-linked Kx blood group related 4</td>\n",
       "      <td>NCBIGene:497097</td>\n",
       "      <td>NaN</td>\n",
       "    </tr>\n",
       "    <tr>\n",
       "      <th>1</th>\n",
       "      <td>ENSMUSG00000089699</td>\n",
       "      <td>Gm1992</td>\n",
       "      <td>predicted gene 1992</td>\n",
       "      <td>NaN</td>\n",
       "      <td>NaN</td>\n",
       "    </tr>\n",
       "    <tr>\n",
       "      <th>2</th>\n",
       "      <td>ENSMUSG00000102331</td>\n",
       "      <td>Gm19938</td>\n",
       "      <td>predicted gene, 19938</td>\n",
       "      <td>NaN</td>\n",
       "      <td>NaN</td>\n",
       "    </tr>\n",
       "    <tr>\n",
       "      <th>3</th>\n",
       "      <td>ENSMUSG00000102343</td>\n",
       "      <td>Gm37381</td>\n",
       "      <td>predicted gene, 37381</td>\n",
       "      <td>NaN</td>\n",
       "      <td>NaN</td>\n",
       "    </tr>\n",
       "    <tr>\n",
       "      <th>4</th>\n",
       "      <td>ENSMUSG00000025900</td>\n",
       "      <td>Rp1</td>\n",
       "      <td>retinitis pigmentosa 1 (human)</td>\n",
       "      <td>NCBIGene:19888</td>\n",
       "      <td>NaN</td>\n",
       "    </tr>\n",
       "    <tr>\n",
       "      <th>...</th>\n",
       "      <td>...</td>\n",
       "      <td>...</td>\n",
       "      <td>...</td>\n",
       "      <td>...</td>\n",
       "      <td>...</td>\n",
       "    </tr>\n",
       "    <tr>\n",
       "      <th>32280</th>\n",
       "      <td>ENSMUSG00000095523</td>\n",
       "      <td>AC124606.1</td>\n",
       "      <td>PRAME family member 8-like</td>\n",
       "      <td>NCBIGene:100038995</td>\n",
       "      <td>no expression</td>\n",
       "    </tr>\n",
       "    <tr>\n",
       "      <th>32281</th>\n",
       "      <td>ENSMUSG00000095475</td>\n",
       "      <td>AC133095.2</td>\n",
       "      <td>uncharacterized LOC545763</td>\n",
       "      <td>NCBIGene:545763</td>\n",
       "      <td>no expression</td>\n",
       "    </tr>\n",
       "    <tr>\n",
       "      <th>32282</th>\n",
       "      <td>ENSMUSG00000094855</td>\n",
       "      <td>AC133095.1</td>\n",
       "      <td>uncharacterized LOC620639</td>\n",
       "      <td>NCBIGene:620639</td>\n",
       "      <td>no expression</td>\n",
       "    </tr>\n",
       "    <tr>\n",
       "      <th>32283</th>\n",
       "      <td>ENSMUSG00000095019</td>\n",
       "      <td>AC234645.1</td>\n",
       "      <td>NaN</td>\n",
       "      <td>NaN</td>\n",
       "      <td>no expression</td>\n",
       "    </tr>\n",
       "    <tr>\n",
       "      <th>32284</th>\n",
       "      <td>ENSMUSG00000095041</td>\n",
       "      <td>AC149090.1</td>\n",
       "      <td>NaN</td>\n",
       "      <td>NaN</td>\n",
       "      <td>NaN</td>\n",
       "    </tr>\n",
       "  </tbody>\n",
       "</table>\n",
       "<p>32285 rows × 5 columns</p>\n",
       "</div>"
      ],
      "text/plain": [
       "          gene_identifier gene_symbol                               name  \\\n",
       "0      ENSMUSG00000051951        Xkr4  X-linked Kx blood group related 4   \n",
       "1      ENSMUSG00000089699      Gm1992                predicted gene 1992   \n",
       "2      ENSMUSG00000102331     Gm19938              predicted gene, 19938   \n",
       "3      ENSMUSG00000102343     Gm37381              predicted gene, 37381   \n",
       "4      ENSMUSG00000025900         Rp1     retinitis pigmentosa 1 (human)   \n",
       "...                   ...         ...                                ...   \n",
       "32280  ENSMUSG00000095523  AC124606.1         PRAME family member 8-like   \n",
       "32281  ENSMUSG00000095475  AC133095.2          uncharacterized LOC545763   \n",
       "32282  ENSMUSG00000094855  AC133095.1          uncharacterized LOC620639   \n",
       "32283  ENSMUSG00000095019  AC234645.1                                NaN   \n",
       "32284  ENSMUSG00000095041  AC149090.1                                NaN   \n",
       "\n",
       "      mapped_ncbi_identifier        comment  \n",
       "0            NCBIGene:497097            NaN  \n",
       "1                        NaN            NaN  \n",
       "2                        NaN            NaN  \n",
       "3                        NaN            NaN  \n",
       "4             NCBIGene:19888            NaN  \n",
       "...                      ...            ...  \n",
       "32280     NCBIGene:100038995  no expression  \n",
       "32281        NCBIGene:545763  no expression  \n",
       "32282        NCBIGene:620639  no expression  \n",
       "32283                    NaN  no expression  \n",
       "32284                    NaN            NaN  \n",
       "\n",
       "[32285 rows x 5 columns]"
      ]
     },
     "execution_count": 19,
     "metadata": {},
     "output_type": "execute_result"
    }
   ],
   "source": [
    "abc_cache.get_metadata_dataframe(directory='WMB-10X', file_name='gene', force_download=True)"
   ]
  },
  {
   "cell_type": "code",
   "execution_count": 20,
   "metadata": {},
   "outputs": [
    {
     "name": "stderr",
     "output_type": "stream",
     "text": [
      "annotation_10.nii.gz: 100%|█████████████████████████████████████████████████████████████████████████████| 27.5M/27.5M [00:01<00:00, 26.3MMB/s]\n",
      "annotation_boundary_10.nii.gz: 100%|████████████████████████████████████████████████████████████████████| 27.4M/27.4M [00:01<00:00, 24.6MMB/s]\n",
      "average_template_10.nii.gz: 100%|█████████████████████████████████████████████████████████████████████████| 343M/343M [00:14<00:00, 23.4MMB/s]"
     ]
    },
    {
     "name": "stdout",
     "output_type": "stream",
     "text": [
      "Allen-CCF-2020 data files:\n",
      "\t [PosixPath('/Users/chris.morrison/src/data/abc_atlas/image_volumes/Allen-CCF-2020/20230630/annotation_10.nii.gz'), PosixPath('/Users/chris.morrison/src/data/abc_atlas/image_volumes/Allen-CCF-2020/20230630/annotation_boundary_10.nii.gz'), PosixPath('/Users/chris.morrison/src/data/abc_atlas/image_volumes/Allen-CCF-2020/20230630/average_template_10.nii.gz')]\n"
     ]
    },
    {
     "name": "stderr",
     "output_type": "stream",
     "text": [
      "\n"
     ]
    }
   ],
   "source": [
    "allen_ccf_list = abc_cache.get_directory_data(directory='Allen-CCF-2020', force_download=True)\n",
    "print(\"Allen-CCF-2020 data files:\\n\\t\", allen_ccf_list)"
   ]
  },
  {
   "cell_type": "markdown",
   "metadata": {},
   "source": [
    "#### Skipping the file hashing check\n",
    "\n",
    "When a download is completed, a hash of the downloaded file is computed and checked against the expected hash in the manifest. While this check is recommeneded it can add overhead to the download process. ``skip_hash_check`` allows the user to skip computing the hash and assume the download has been completed successfully. "
   ]
  },
  {
   "cell_type": "code",
   "execution_count": 21,
   "metadata": {},
   "outputs": [
    {
     "name": "stderr",
     "output_type": "stream",
     "text": [
      "UMAP20230830-TH-EPI-Glut.csv: 100%|█████████████████████████████████████████████████████████████████████| 6.46M/6.46M [00:00<00:00, 19.2MMB/s]\n"
     ]
    },
    {
     "data": {
      "text/html": [
       "<div>\n",
       "<style scoped>\n",
       "    .dataframe tbody tr th:only-of-type {\n",
       "        vertical-align: middle;\n",
       "    }\n",
       "\n",
       "    .dataframe tbody tr th {\n",
       "        vertical-align: top;\n",
       "    }\n",
       "\n",
       "    .dataframe thead th {\n",
       "        text-align: right;\n",
       "    }\n",
       "</style>\n",
       "<table border=\"1\" class=\"dataframe\">\n",
       "  <thead>\n",
       "    <tr style=\"text-align: right;\">\n",
       "      <th></th>\n",
       "      <th>cell_label</th>\n",
       "      <th>x</th>\n",
       "      <th>y</th>\n",
       "    </tr>\n",
       "  </thead>\n",
       "  <tbody>\n",
       "    <tr>\n",
       "      <th>0</th>\n",
       "      <td>CTCACACTCGTAGATC-044_D01</td>\n",
       "      <td>-4.603476</td>\n",
       "      <td>-6.148670</td>\n",
       "    </tr>\n",
       "    <tr>\n",
       "      <th>1</th>\n",
       "      <td>CCGTACTCATCCAACA-036_D01</td>\n",
       "      <td>-4.817812</td>\n",
       "      <td>-6.366151</td>\n",
       "    </tr>\n",
       "    <tr>\n",
       "      <th>2</th>\n",
       "      <td>AGCGGTCCATGGGAAC-037_A01</td>\n",
       "      <td>-4.798783</td>\n",
       "      <td>-6.577992</td>\n",
       "    </tr>\n",
       "    <tr>\n",
       "      <th>3</th>\n",
       "      <td>GATGAGGCATGTTCCC-037_B01</td>\n",
       "      <td>-5.188138</td>\n",
       "      <td>-5.892220</td>\n",
       "    </tr>\n",
       "    <tr>\n",
       "      <th>4</th>\n",
       "      <td>TAGTGGTAGGCGACAT-037_B01</td>\n",
       "      <td>-4.715829</td>\n",
       "      <td>-6.606307</td>\n",
       "    </tr>\n",
       "    <tr>\n",
       "      <th>...</th>\n",
       "      <td>...</td>\n",
       "      <td>...</td>\n",
       "      <td>...</td>\n",
       "    </tr>\n",
       "    <tr>\n",
       "      <th>126166</th>\n",
       "      <td>TTTGTTGTCCGACATA-290_B01</td>\n",
       "      <td>10.042111</td>\n",
       "      <td>10.349521</td>\n",
       "    </tr>\n",
       "    <tr>\n",
       "      <th>126167</th>\n",
       "      <td>TTTGTTGTCGTCTACC-294_B05</td>\n",
       "      <td>-1.630137</td>\n",
       "      <td>9.033476</td>\n",
       "    </tr>\n",
       "    <tr>\n",
       "      <th>126168</th>\n",
       "      <td>TTTGTTGTCGTTCCTG-463_A05</td>\n",
       "      <td>-6.848272</td>\n",
       "      <td>12.645908</td>\n",
       "    </tr>\n",
       "    <tr>\n",
       "      <th>126169</th>\n",
       "      <td>TTTGTTGTCGTTGCCT-621_A02</td>\n",
       "      <td>-6.982306</td>\n",
       "      <td>14.718120</td>\n",
       "    </tr>\n",
       "    <tr>\n",
       "      <th>126170</th>\n",
       "      <td>TTTGTTGTCTTTCGAT-574_A02</td>\n",
       "      <td>-5.292696</td>\n",
       "      <td>6.804039</td>\n",
       "    </tr>\n",
       "  </tbody>\n",
       "</table>\n",
       "<p>126171 rows × 3 columns</p>\n",
       "</div>"
      ],
      "text/plain": [
       "                      cell_label          x          y\n",
       "0       CTCACACTCGTAGATC-044_D01  -4.603476  -6.148670\n",
       "1       CCGTACTCATCCAACA-036_D01  -4.817812  -6.366151\n",
       "2       AGCGGTCCATGGGAAC-037_A01  -4.798783  -6.577992\n",
       "3       GATGAGGCATGTTCCC-037_B01  -5.188138  -5.892220\n",
       "4       TAGTGGTAGGCGACAT-037_B01  -4.715829  -6.606307\n",
       "...                          ...        ...        ...\n",
       "126166  TTTGTTGTCCGACATA-290_B01  10.042111  10.349521\n",
       "126167  TTTGTTGTCGTCTACC-294_B05  -1.630137   9.033476\n",
       "126168  TTTGTTGTCGTTCCTG-463_A05  -6.848272  12.645908\n",
       "126169  TTTGTTGTCGTTGCCT-621_A02  -6.982306  14.718120\n",
       "126170  TTTGTTGTCTTTCGAT-574_A02  -5.292696   6.804039\n",
       "\n",
       "[126171 rows x 3 columns]"
      ]
     },
     "execution_count": 21,
     "metadata": {},
     "output_type": "execute_result"
    }
   ],
   "source": [
    "abc_cache.get_metadata_dataframe(directory='WMB-neighborhoods', file_name='UMAP20230830-TH-EPI-Glut', skip_hash_check=True)"
   ]
  },
  {
   "cell_type": "code",
   "execution_count": 22,
   "metadata": {},
   "outputs": [
    {
     "name": "stderr",
     "output_type": "stream",
     "text": [
      "parcellation.csv: 100%|█████████████████████████████████████████████████████████████████████████████████| 41.2k/41.2k [00:00<00:00, 58.4kMB/s]\n",
      "parcellation_term.csv: 100%|██████████████████████████████████████████████████████████████████████████████| 177k/177k [00:00<00:00, 1.60MMB/s]\n",
      "parcellation_term_set.csv: 100%|████████████████████████████████████████████████████████████████████████████| 628/628 [00:00<00:00, 10.7kMB/s]\n",
      "parcellation_term_set_membership.csv: 100%|███████████████████████████████████████████████████████████████| 114k/114k [00:00<00:00, 1.19MMB/s]\n",
      "parcellation_term_with_counts.csv: 100%|██████████████████████████████████████████████████████████████████| 137k/137k [00:00<00:00, 1.11MMB/s]\n",
      "parcellation_to_parcellation_term_membership.csv: 100%|███████████████████████████████████████████████████| 680k/680k [00:00<00:00, 4.73MMB/s]\n",
      "parcellation_to_parcellation_term_membership_acronym.csv: 100%|██████████████████████████████████████████| 22.3k/22.3k [00:00<00:00, 452kMB/s]\n",
      "parcellation_to_parcellation_term_membership_blue.csv: 100%|█████████████████████████████████████████████| 16.4k/16.4k [00:00<00:00, 237kMB/s]\n",
      "parcellation_to_parcellation_term_membership_color.csv: 100%|████████████████████████████████████████████| 30.5k/30.5k [00:00<00:00, 553kMB/s]\n",
      "parcellation_to_parcellation_term_membership_green.csv: 100%|████████████████████████████████████████████| 16.5k/16.5k [00:00<00:00, 238kMB/s]\n",
      "parcellation_to_parcellation_term_membership_name.csv: 100%|█████████████████████████████████████████████| 75.8k/75.8k [00:00<00:00, 663kMB/s]\n",
      "parcellation_to_parcellation_term_membership_red.csv: 100%|██████████████████████████████████████████████| 16.0k/16.0k [00:00<00:00, 274kMB/s]\n"
     ]
    },
    {
     "data": {
      "text/plain": [
       "[PosixPath('/Users/chris.morrison/src/data/abc_atlas/metadata/Allen-CCF-2020/20230630/parcellation.csv'),\n",
       " PosixPath('/Users/chris.morrison/src/data/abc_atlas/metadata/Allen-CCF-2020/20230630/parcellation_term.csv'),\n",
       " PosixPath('/Users/chris.morrison/src/data/abc_atlas/metadata/Allen-CCF-2020/20230630/parcellation_term_set.csv'),\n",
       " PosixPath('/Users/chris.morrison/src/data/abc_atlas/metadata/Allen-CCF-2020/20230630/parcellation_term_set_membership.csv'),\n",
       " PosixPath('/Users/chris.morrison/src/data/abc_atlas/metadata/Allen-CCF-2020/20230630/views/parcellation_term_with_counts.csv'),\n",
       " PosixPath('/Users/chris.morrison/src/data/abc_atlas/metadata/Allen-CCF-2020/20230630/parcellation_to_parcellation_term_membership.csv'),\n",
       " PosixPath('/Users/chris.morrison/src/data/abc_atlas/metadata/Allen-CCF-2020/20230630/views/parcellation_to_parcellation_term_membership_acronym.csv'),\n",
       " PosixPath('/Users/chris.morrison/src/data/abc_atlas/metadata/Allen-CCF-2020/20230630/views/parcellation_to_parcellation_term_membership_blue.csv'),\n",
       " PosixPath('/Users/chris.morrison/src/data/abc_atlas/metadata/Allen-CCF-2020/20230630/views/parcellation_to_parcellation_term_membership_color.csv'),\n",
       " PosixPath('/Users/chris.morrison/src/data/abc_atlas/metadata/Allen-CCF-2020/20230630/views/parcellation_to_parcellation_term_membership_green.csv'),\n",
       " PosixPath('/Users/chris.morrison/src/data/abc_atlas/metadata/Allen-CCF-2020/20230630/views/parcellation_to_parcellation_term_membership_name.csv'),\n",
       " PosixPath('/Users/chris.morrison/src/data/abc_atlas/metadata/Allen-CCF-2020/20230630/views/parcellation_to_parcellation_term_membership_red.csv')]"
      ]
     },
     "execution_count": 22,
     "metadata": {},
     "output_type": "execute_result"
    }
   ],
   "source": [
    "abc_cache.get_directory_metadata(directory='Allen-CCF-2020', skip_hash_check=True)"
   ]
  },
  {
   "cell_type": "code",
   "execution_count": null,
   "metadata": {},
   "outputs": [],
   "source": []
  }
 ],
 "metadata": {
  "kernelspec": {
   "display_name": "abca-env",
   "language": "python",
   "name": "python3"
  },
  "language_info": {
   "codemirror_mode": {
    "name": "ipython",
    "version": 3
   },
   "file_extension": ".py",
   "mimetype": "text/x-python",
   "name": "python",
   "nbconvert_exporter": "python",
   "pygments_lexer": "ipython3",
   "version": "3.10.16"
  }
 },
 "nbformat": 4,
 "nbformat_minor": 4
}
