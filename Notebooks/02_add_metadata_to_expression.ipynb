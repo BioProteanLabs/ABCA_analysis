{
 "cells": [
  {
   "cell_type": "markdown",
   "metadata": {},
   "source": [
    "First, install scanpy using `mamba install -c conda-forge scanpy`"
   ]
  },
  {
   "cell_type": "code",
   "execution_count": 1,
   "metadata": {},
   "outputs": [],
   "source": [
    "import anndata\n",
    "import scanpy as sc\n",
    "import pandas as pd\n",
    "from pathlib import Path\n",
    "import matplotlib.pyplot as plt\n",
    "from abc_atlas_access.abc_atlas_cache.abc_project_cache import AbcProjectCache"
   ]
  },
  {
   "cell_type": "code",
   "execution_count": 2,
   "metadata": {},
   "outputs": [],
   "source": [
    "download_base = Path('/data/scRNA/ABCA/AIBS/AWS/')\n",
    "abc_cache = AbcProjectCache.from_cache_dir(download_base)"
   ]
  },
  {
   "cell_type": "code",
   "execution_count": 3,
   "metadata": {},
   "outputs": [
    {
     "name": "stderr",
     "output_type": "stream",
     "text": [
      "/home/momo/miniforge3/envs/abca-env/lib/python3.10/site-packages/abc_atlas_access/abc_atlas_cache/abc_project_cache.py:429: DtypeWarning: Columns (16) have mixed types. Specify dtype option on import or set low_memory=False.\n",
      "  return pd.read_csv(path, **kwargs)\n"
     ]
    }
   ],
   "source": [
    "cell_metadata = abc_cache.get_metadata_dataframe(\n",
    "    directory='WMB-10X',\n",
    "    file_name='cell_metadata_with_cluster_annotation'\n",
    ")\n",
    "cell_metadata.set_index('cell_label', inplace=True)"
   ]
  },
  {
   "cell_type": "code",
   "execution_count": 1,
   "metadata": {},
   "outputs": [
    {
     "ename": "NameError",
     "evalue": "name 'cell_metadata' is not defined",
     "output_type": "error",
     "traceback": [
      "\u001b[0;31m---------------------------------------------------------------------------\u001b[0m",
      "\u001b[0;31mNameError\u001b[0m                                 Traceback (most recent call last)",
      "Cell \u001b[0;32mIn[1], line 1\u001b[0m\n\u001b[0;32m----> 1\u001b[0m \u001b[43mcell_metadata\u001b[49m\u001b[38;5;241m.\u001b[39mhead()\n",
      "\u001b[0;31mNameError\u001b[0m: name 'cell_metadata' is not defined"
     ]
    }
   ],
   "source": [
    "cell_metadata.head()"
   ]
  },
  {
   "cell_type": "code",
   "execution_count": 5,
   "metadata": {},
   "outputs": [
    {
     "data": {
      "text/plain": [
       "AnnData object with n_obs × n_vars = 78464 × 32285\n",
       "    obs: 'cell_barcode', 'library_label', 'anatomical_division_label'\n",
       "    var: 'gene_symbol'\n",
       "    uns: 'normalization', 'parent', 'parent_layer', 'parent_rows'"
      ]
     },
     "execution_count": 5,
     "metadata": {},
     "output_type": "execute_result"
    }
   ],
   "source": [
    "expr_path = '/data/scRNA/ABCA/AIBS/AWS/expression_matrices/WMB-10Xv3/20230630/WMB-10Xv3-CTXsp-log2.h5ad'\n",
    "expression_data = sc.read_h5ad(expr_path)\n",
    "expression_data"
   ]
  },
  {
   "cell_type": "code",
   "execution_count": 6,
   "metadata": {},
   "outputs": [
    {
     "data": {
      "text/html": [
       "<div>\n",
       "<style scoped>\n",
       "    .dataframe tbody tr th:only-of-type {\n",
       "        vertical-align: middle;\n",
       "    }\n",
       "\n",
       "    .dataframe tbody tr th {\n",
       "        vertical-align: top;\n",
       "    }\n",
       "\n",
       "    .dataframe thead th {\n",
       "        text-align: right;\n",
       "    }\n",
       "</style>\n",
       "<table border=\"1\" class=\"dataframe\">\n",
       "  <thead>\n",
       "    <tr style=\"text-align: right;\">\n",
       "      <th></th>\n",
       "      <th>cell_barcode</th>\n",
       "      <th>library_label</th>\n",
       "      <th>anatomical_division_label</th>\n",
       "    </tr>\n",
       "    <tr>\n",
       "      <th>cell_label</th>\n",
       "      <th></th>\n",
       "      <th></th>\n",
       "      <th></th>\n",
       "    </tr>\n",
       "  </thead>\n",
       "  <tbody>\n",
       "    <tr>\n",
       "      <th>GCCCGAAGTCAGTTTG-344_C04</th>\n",
       "      <td>GCCCGAAGTCAGTTTG</td>\n",
       "      <td>L8TX_200827_01_E10</td>\n",
       "      <td>CTXsp</td>\n",
       "    </tr>\n",
       "    <tr>\n",
       "      <th>AGGTTACTCGCGCCAA-332_B01</th>\n",
       "      <td>AGGTTACTCGCGCCAA</td>\n",
       "      <td>L8TX_200820_01_D01</td>\n",
       "      <td>CTXsp</td>\n",
       "    </tr>\n",
       "    <tr>\n",
       "      <th>ATGAGGGAGTGTTCCA-332_A01</th>\n",
       "      <td>ATGAGGGAGTGTTCCA</td>\n",
       "      <td>L8TX_200820_01_E02</td>\n",
       "      <td>CTXsp</td>\n",
       "    </tr>\n",
       "    <tr>\n",
       "      <th>CATAGACAGTCTAACC-299_B02</th>\n",
       "      <td>CATAGACAGTCTAACC</td>\n",
       "      <td>L8TX_200723_01_G09</td>\n",
       "      <td>CTXsp</td>\n",
       "    </tr>\n",
       "    <tr>\n",
       "      <th>GAGTTACCATGACGAG-299_A02</th>\n",
       "      <td>GAGTTACCATGACGAG</td>\n",
       "      <td>L8TX_200723_01_F09</td>\n",
       "      <td>CTXsp</td>\n",
       "    </tr>\n",
       "  </tbody>\n",
       "</table>\n",
       "</div>"
      ],
      "text/plain": [
       "                              cell_barcode       library_label  \\\n",
       "cell_label                                                       \n",
       "GCCCGAAGTCAGTTTG-344_C04  GCCCGAAGTCAGTTTG  L8TX_200827_01_E10   \n",
       "AGGTTACTCGCGCCAA-332_B01  AGGTTACTCGCGCCAA  L8TX_200820_01_D01   \n",
       "ATGAGGGAGTGTTCCA-332_A01  ATGAGGGAGTGTTCCA  L8TX_200820_01_E02   \n",
       "CATAGACAGTCTAACC-299_B02  CATAGACAGTCTAACC  L8TX_200723_01_G09   \n",
       "GAGTTACCATGACGAG-299_A02  GAGTTACCATGACGAG  L8TX_200723_01_F09   \n",
       "\n",
       "                         anatomical_division_label  \n",
       "cell_label                                          \n",
       "GCCCGAAGTCAGTTTG-344_C04                     CTXsp  \n",
       "AGGTTACTCGCGCCAA-332_B01                     CTXsp  \n",
       "ATGAGGGAGTGTTCCA-332_A01                     CTXsp  \n",
       "CATAGACAGTCTAACC-299_B02                     CTXsp  \n",
       "GAGTTACCATGACGAG-299_A02                     CTXsp  "
      ]
     },
     "execution_count": 6,
     "metadata": {},
     "output_type": "execute_result"
    }
   ],
   "source": [
    "expression_data.obs.head()"
   ]
  },
  {
   "cell_type": "code",
   "execution_count": 7,
   "metadata": {},
   "outputs": [
    {
     "data": {
      "text/plain": [
       "Index(['GCCCGAAGTCAGTTTG-344_C04', 'AGGTTACTCGCGCCAA-332_B01',\n",
       "       'ATGAGGGAGTGTTCCA-332_A01', 'CATAGACAGTCTAACC-299_B02',\n",
       "       'GAGTTACCATGACGAG-299_A02', 'GGAGCAATCTCTCGAC-299_A02',\n",
       "       'GGCTTGGTCTCCGAGG-332_B01', 'TCGAAGTGTTCGGTCG-308_B03',\n",
       "       'GAGACTTAGTGCCCGT-308_A03', 'AGCCAATAGTAGCCAG-344_B04',\n",
       "       ...\n",
       "       'TTTGGTTTCAGGACGA-344_C04', 'TTTGGTTTCCCAGTGG-323_A02',\n",
       "       'TTTGGTTTCCGCACGA-308_A03', 'TTTGTTGAGAGCACTG-332_C01',\n",
       "       'TTTGTTGCACTGGACC-341_A01', 'TTTGTTGGTCCCTAAA-344_A04',\n",
       "       'TTTGTTGGTGAGCGAT-308_C03', 'TTTGTTGGTTGTGGCC-308_C03',\n",
       "       'TTTGTTGTCTAAGCCA-332_C01', 'TTTGTTGTCTTACGGA-341_A01'],\n",
       "      dtype='object', name='cell_label', length=78464)"
      ]
     },
     "execution_count": 7,
     "metadata": {},
     "output_type": "execute_result"
    }
   ],
   "source": [
    "expression_data.obs_names"
   ]
  },
  {
   "cell_type": "code",
   "execution_count": 8,
   "metadata": {},
   "outputs": [
    {
     "data": {
      "text/plain": [
       "AnnData object with n_obs × n_vars = 78223 × 32285\n",
       "    obs: 'cell_barcode', 'barcoded_cell_sample_label', 'library_label', 'feature_matrix_label', 'entity', 'brain_section_label', 'library_method', 'region_of_interest_acronym', 'donor_label', 'donor_genotype', 'donor_sex', 'dataset_label', 'x', 'y', 'cluster_alias', 'neurotransmitter', 'class', 'subclass', 'supertype', 'cluster', 'neurotransmitter_color', 'class_color', 'subclass_color', 'supertype_color', 'cluster_color', 'region_of_interest_order', 'region_of_interest_color'\n",
       "    var: 'gene_symbol'\n",
       "    uns: 'normalization', 'parent', 'parent_layer', 'parent_rows'"
      ]
     },
     "execution_count": 8,
     "metadata": {},
     "output_type": "execute_result"
    }
   ],
   "source": [
    "# Align metadata with expression data\n",
    "common_cells = expression_data.obs_names.intersection(cell_metadata.index)\n",
    "expression_data = expression_data[common_cells, :]\n",
    "\n",
    "# Add metadata to the AnnData object\n",
    "expression_data.obs = cell_metadata.loc[common_cells]\n",
    "expression_data"
   ]
  },
  {
   "cell_type": "code",
   "execution_count": 9,
   "metadata": {},
   "outputs": [
    {
     "data": {
      "text/html": [
       "<div>\n",
       "<style scoped>\n",
       "    .dataframe tbody tr th:only-of-type {\n",
       "        vertical-align: middle;\n",
       "    }\n",
       "\n",
       "    .dataframe tbody tr th {\n",
       "        vertical-align: top;\n",
       "    }\n",
       "\n",
       "    .dataframe thead th {\n",
       "        text-align: right;\n",
       "    }\n",
       "</style>\n",
       "<table border=\"1\" class=\"dataframe\">\n",
       "  <thead>\n",
       "    <tr style=\"text-align: right;\">\n",
       "      <th></th>\n",
       "      <th>cell_barcode</th>\n",
       "      <th>barcoded_cell_sample_label</th>\n",
       "      <th>library_label</th>\n",
       "      <th>feature_matrix_label</th>\n",
       "      <th>entity</th>\n",
       "      <th>brain_section_label</th>\n",
       "      <th>library_method</th>\n",
       "      <th>region_of_interest_acronym</th>\n",
       "      <th>donor_label</th>\n",
       "      <th>donor_genotype</th>\n",
       "      <th>...</th>\n",
       "      <th>subclass</th>\n",
       "      <th>supertype</th>\n",
       "      <th>cluster</th>\n",
       "      <th>neurotransmitter_color</th>\n",
       "      <th>class_color</th>\n",
       "      <th>subclass_color</th>\n",
       "      <th>supertype_color</th>\n",
       "      <th>cluster_color</th>\n",
       "      <th>region_of_interest_order</th>\n",
       "      <th>region_of_interest_color</th>\n",
       "    </tr>\n",
       "    <tr>\n",
       "      <th>cell_label</th>\n",
       "      <th></th>\n",
       "      <th></th>\n",
       "      <th></th>\n",
       "      <th></th>\n",
       "      <th></th>\n",
       "      <th></th>\n",
       "      <th></th>\n",
       "      <th></th>\n",
       "      <th></th>\n",
       "      <th></th>\n",
       "      <th></th>\n",
       "      <th></th>\n",
       "      <th></th>\n",
       "      <th></th>\n",
       "      <th></th>\n",
       "      <th></th>\n",
       "      <th></th>\n",
       "      <th></th>\n",
       "      <th></th>\n",
       "      <th></th>\n",
       "      <th></th>\n",
       "    </tr>\n",
       "  </thead>\n",
       "  <tbody>\n",
       "    <tr>\n",
       "      <th>GCCCGAAGTCAGTTTG-344_C04</th>\n",
       "      <td>GCCCGAAGTCAGTTTG</td>\n",
       "      <td>344_C04</td>\n",
       "      <td>L8TX_200827_01_E10</td>\n",
       "      <td>WMB-10Xv3-CTXsp</td>\n",
       "      <td>cell</td>\n",
       "      <td>NaN</td>\n",
       "      <td>10Xv3</td>\n",
       "      <td>CTXsp</td>\n",
       "      <td>Snap25-IRES2-Cre;Ai14-539605</td>\n",
       "      <td>Snap25-IRES2-Cre/wt;Ai14(RCL-tdT)/wt</td>\n",
       "      <td>...</td>\n",
       "      <td>079 CEA-BST Six3 Cyp26b1 Gaba</td>\n",
       "      <td>0367 CEA-BST Six3 Cyp26b1 Gaba_1</td>\n",
       "      <td>1327 CEA-BST Six3 Cyp26b1 Gaba_1</td>\n",
       "      <td>#FF3358</td>\n",
       "      <td>#450099</td>\n",
       "      <td>#73C1FF</td>\n",
       "      <td>#660F30</td>\n",
       "      <td>#FFED73</td>\n",
       "      <td>17</td>\n",
       "      <td>#994817</td>\n",
       "    </tr>\n",
       "    <tr>\n",
       "      <th>AGGTTACTCGCGCCAA-332_B01</th>\n",
       "      <td>AGGTTACTCGCGCCAA</td>\n",
       "      <td>332_B01</td>\n",
       "      <td>L8TX_200820_01_D01</td>\n",
       "      <td>WMB-10Xv3-CTXsp</td>\n",
       "      <td>cell</td>\n",
       "      <td>NaN</td>\n",
       "      <td>10Xv3</td>\n",
       "      <td>CTXsp</td>\n",
       "      <td>Snap25-IRES2-Cre;Ai14-537272</td>\n",
       "      <td>Snap25-IRES2-Cre/wt;Ai14(RCL-tdT)/wt</td>\n",
       "      <td>...</td>\n",
       "      <td>079 CEA-BST Six3 Cyp26b1 Gaba</td>\n",
       "      <td>0367 CEA-BST Six3 Cyp26b1 Gaba_1</td>\n",
       "      <td>1330 CEA-BST Six3 Cyp26b1 Gaba_1</td>\n",
       "      <td>#FF3358</td>\n",
       "      <td>#450099</td>\n",
       "      <td>#73C1FF</td>\n",
       "      <td>#660F30</td>\n",
       "      <td>#814DFF</td>\n",
       "      <td>17</td>\n",
       "      <td>#994817</td>\n",
       "    </tr>\n",
       "    <tr>\n",
       "      <th>ATGAGGGAGTGTTCCA-332_A01</th>\n",
       "      <td>ATGAGGGAGTGTTCCA</td>\n",
       "      <td>332_A01</td>\n",
       "      <td>L8TX_200820_01_E02</td>\n",
       "      <td>WMB-10Xv3-CTXsp</td>\n",
       "      <td>cell</td>\n",
       "      <td>NaN</td>\n",
       "      <td>10Xv3</td>\n",
       "      <td>CTXsp</td>\n",
       "      <td>Snap25-IRES2-Cre;Ai14-537272</td>\n",
       "      <td>Snap25-IRES2-Cre/wt;Ai14(RCL-tdT)/wt</td>\n",
       "      <td>...</td>\n",
       "      <td>080 CEA-AAA-BST Six3 Sp9 Gaba</td>\n",
       "      <td>0374 CEA-AAA-BST Six3 Sp9 Gaba_2</td>\n",
       "      <td>1358 CEA-AAA-BST Six3 Sp9 Gaba_2</td>\n",
       "      <td>#FF3358</td>\n",
       "      <td>#450099</td>\n",
       "      <td>#990091</td>\n",
       "      <td>#57662E</td>\n",
       "      <td>#662E4F</td>\n",
       "      <td>17</td>\n",
       "      <td>#994817</td>\n",
       "    </tr>\n",
       "    <tr>\n",
       "      <th>CATAGACAGTCTAACC-299_B02</th>\n",
       "      <td>CATAGACAGTCTAACC</td>\n",
       "      <td>299_B02</td>\n",
       "      <td>L8TX_200723_01_G09</td>\n",
       "      <td>WMB-10Xv3-CTXsp</td>\n",
       "      <td>cell</td>\n",
       "      <td>NaN</td>\n",
       "      <td>10Xv3</td>\n",
       "      <td>CTXsp</td>\n",
       "      <td>Snap25-IRES2-Cre;Ai14-532618</td>\n",
       "      <td>Snap25-IRES2-Cre/wt;Ai14(RCL-tdT)/wt</td>\n",
       "      <td>...</td>\n",
       "      <td>080 CEA-AAA-BST Six3 Sp9 Gaba</td>\n",
       "      <td>0374 CEA-AAA-BST Six3 Sp9 Gaba_2</td>\n",
       "      <td>1358 CEA-AAA-BST Six3 Sp9 Gaba_2</td>\n",
       "      <td>#FF3358</td>\n",
       "      <td>#450099</td>\n",
       "      <td>#990091</td>\n",
       "      <td>#57662E</td>\n",
       "      <td>#662E4F</td>\n",
       "      <td>17</td>\n",
       "      <td>#994817</td>\n",
       "    </tr>\n",
       "    <tr>\n",
       "      <th>GAGTTACCATGACGAG-299_A02</th>\n",
       "      <td>GAGTTACCATGACGAG</td>\n",
       "      <td>299_A02</td>\n",
       "      <td>L8TX_200723_01_F09</td>\n",
       "      <td>WMB-10Xv3-CTXsp</td>\n",
       "      <td>cell</td>\n",
       "      <td>NaN</td>\n",
       "      <td>10Xv3</td>\n",
       "      <td>CTXsp</td>\n",
       "      <td>Snap25-IRES2-Cre;Ai14-532618</td>\n",
       "      <td>Snap25-IRES2-Cre/wt;Ai14(RCL-tdT)/wt</td>\n",
       "      <td>...</td>\n",
       "      <td>080 CEA-AAA-BST Six3 Sp9 Gaba</td>\n",
       "      <td>0374 CEA-AAA-BST Six3 Sp9 Gaba_2</td>\n",
       "      <td>1358 CEA-AAA-BST Six3 Sp9 Gaba_2</td>\n",
       "      <td>#FF3358</td>\n",
       "      <td>#450099</td>\n",
       "      <td>#990091</td>\n",
       "      <td>#57662E</td>\n",
       "      <td>#662E4F</td>\n",
       "      <td>17</td>\n",
       "      <td>#994817</td>\n",
       "    </tr>\n",
       "  </tbody>\n",
       "</table>\n",
       "<p>5 rows × 27 columns</p>\n",
       "</div>"
      ],
      "text/plain": [
       "                              cell_barcode barcoded_cell_sample_label  \\\n",
       "cell_label                                                              \n",
       "GCCCGAAGTCAGTTTG-344_C04  GCCCGAAGTCAGTTTG                    344_C04   \n",
       "AGGTTACTCGCGCCAA-332_B01  AGGTTACTCGCGCCAA                    332_B01   \n",
       "ATGAGGGAGTGTTCCA-332_A01  ATGAGGGAGTGTTCCA                    332_A01   \n",
       "CATAGACAGTCTAACC-299_B02  CATAGACAGTCTAACC                    299_B02   \n",
       "GAGTTACCATGACGAG-299_A02  GAGTTACCATGACGAG                    299_A02   \n",
       "\n",
       "                               library_label feature_matrix_label entity  \\\n",
       "cell_label                                                                 \n",
       "GCCCGAAGTCAGTTTG-344_C04  L8TX_200827_01_E10      WMB-10Xv3-CTXsp   cell   \n",
       "AGGTTACTCGCGCCAA-332_B01  L8TX_200820_01_D01      WMB-10Xv3-CTXsp   cell   \n",
       "ATGAGGGAGTGTTCCA-332_A01  L8TX_200820_01_E02      WMB-10Xv3-CTXsp   cell   \n",
       "CATAGACAGTCTAACC-299_B02  L8TX_200723_01_G09      WMB-10Xv3-CTXsp   cell   \n",
       "GAGTTACCATGACGAG-299_A02  L8TX_200723_01_F09      WMB-10Xv3-CTXsp   cell   \n",
       "\n",
       "                          brain_section_label library_method  \\\n",
       "cell_label                                                     \n",
       "GCCCGAAGTCAGTTTG-344_C04                  NaN          10Xv3   \n",
       "AGGTTACTCGCGCCAA-332_B01                  NaN          10Xv3   \n",
       "ATGAGGGAGTGTTCCA-332_A01                  NaN          10Xv3   \n",
       "CATAGACAGTCTAACC-299_B02                  NaN          10Xv3   \n",
       "GAGTTACCATGACGAG-299_A02                  NaN          10Xv3   \n",
       "\n",
       "                         region_of_interest_acronym  \\\n",
       "cell_label                                            \n",
       "GCCCGAAGTCAGTTTG-344_C04                      CTXsp   \n",
       "AGGTTACTCGCGCCAA-332_B01                      CTXsp   \n",
       "ATGAGGGAGTGTTCCA-332_A01                      CTXsp   \n",
       "CATAGACAGTCTAACC-299_B02                      CTXsp   \n",
       "GAGTTACCATGACGAG-299_A02                      CTXsp   \n",
       "\n",
       "                                           donor_label  \\\n",
       "cell_label                                               \n",
       "GCCCGAAGTCAGTTTG-344_C04  Snap25-IRES2-Cre;Ai14-539605   \n",
       "AGGTTACTCGCGCCAA-332_B01  Snap25-IRES2-Cre;Ai14-537272   \n",
       "ATGAGGGAGTGTTCCA-332_A01  Snap25-IRES2-Cre;Ai14-537272   \n",
       "CATAGACAGTCTAACC-299_B02  Snap25-IRES2-Cre;Ai14-532618   \n",
       "GAGTTACCATGACGAG-299_A02  Snap25-IRES2-Cre;Ai14-532618   \n",
       "\n",
       "                                                donor_genotype  ...  \\\n",
       "cell_label                                                      ...   \n",
       "GCCCGAAGTCAGTTTG-344_C04  Snap25-IRES2-Cre/wt;Ai14(RCL-tdT)/wt  ...   \n",
       "AGGTTACTCGCGCCAA-332_B01  Snap25-IRES2-Cre/wt;Ai14(RCL-tdT)/wt  ...   \n",
       "ATGAGGGAGTGTTCCA-332_A01  Snap25-IRES2-Cre/wt;Ai14(RCL-tdT)/wt  ...   \n",
       "CATAGACAGTCTAACC-299_B02  Snap25-IRES2-Cre/wt;Ai14(RCL-tdT)/wt  ...   \n",
       "GAGTTACCATGACGAG-299_A02  Snap25-IRES2-Cre/wt;Ai14(RCL-tdT)/wt  ...   \n",
       "\n",
       "                                               subclass  \\\n",
       "cell_label                                                \n",
       "GCCCGAAGTCAGTTTG-344_C04  079 CEA-BST Six3 Cyp26b1 Gaba   \n",
       "AGGTTACTCGCGCCAA-332_B01  079 CEA-BST Six3 Cyp26b1 Gaba   \n",
       "ATGAGGGAGTGTTCCA-332_A01  080 CEA-AAA-BST Six3 Sp9 Gaba   \n",
       "CATAGACAGTCTAACC-299_B02  080 CEA-AAA-BST Six3 Sp9 Gaba   \n",
       "GAGTTACCATGACGAG-299_A02  080 CEA-AAA-BST Six3 Sp9 Gaba   \n",
       "\n",
       "                                                 supertype  \\\n",
       "cell_label                                                   \n",
       "GCCCGAAGTCAGTTTG-344_C04  0367 CEA-BST Six3 Cyp26b1 Gaba_1   \n",
       "AGGTTACTCGCGCCAA-332_B01  0367 CEA-BST Six3 Cyp26b1 Gaba_1   \n",
       "ATGAGGGAGTGTTCCA-332_A01  0374 CEA-AAA-BST Six3 Sp9 Gaba_2   \n",
       "CATAGACAGTCTAACC-299_B02  0374 CEA-AAA-BST Six3 Sp9 Gaba_2   \n",
       "GAGTTACCATGACGAG-299_A02  0374 CEA-AAA-BST Six3 Sp9 Gaba_2   \n",
       "\n",
       "                                                   cluster  \\\n",
       "cell_label                                                   \n",
       "GCCCGAAGTCAGTTTG-344_C04  1327 CEA-BST Six3 Cyp26b1 Gaba_1   \n",
       "AGGTTACTCGCGCCAA-332_B01  1330 CEA-BST Six3 Cyp26b1 Gaba_1   \n",
       "ATGAGGGAGTGTTCCA-332_A01  1358 CEA-AAA-BST Six3 Sp9 Gaba_2   \n",
       "CATAGACAGTCTAACC-299_B02  1358 CEA-AAA-BST Six3 Sp9 Gaba_2   \n",
       "GAGTTACCATGACGAG-299_A02  1358 CEA-AAA-BST Six3 Sp9 Gaba_2   \n",
       "\n",
       "                          neurotransmitter_color  class_color subclass_color  \\\n",
       "cell_label                                                                     \n",
       "GCCCGAAGTCAGTTTG-344_C04                 #FF3358      #450099        #73C1FF   \n",
       "AGGTTACTCGCGCCAA-332_B01                 #FF3358      #450099        #73C1FF   \n",
       "ATGAGGGAGTGTTCCA-332_A01                 #FF3358      #450099        #990091   \n",
       "CATAGACAGTCTAACC-299_B02                 #FF3358      #450099        #990091   \n",
       "GAGTTACCATGACGAG-299_A02                 #FF3358      #450099        #990091   \n",
       "\n",
       "                         supertype_color cluster_color  \\\n",
       "cell_label                                               \n",
       "GCCCGAAGTCAGTTTG-344_C04         #660F30       #FFED73   \n",
       "AGGTTACTCGCGCCAA-332_B01         #660F30       #814DFF   \n",
       "ATGAGGGAGTGTTCCA-332_A01         #57662E       #662E4F   \n",
       "CATAGACAGTCTAACC-299_B02         #57662E       #662E4F   \n",
       "GAGTTACCATGACGAG-299_A02         #57662E       #662E4F   \n",
       "\n",
       "                         region_of_interest_order region_of_interest_color  \n",
       "cell_label                                                                  \n",
       "GCCCGAAGTCAGTTTG-344_C04                       17                  #994817  \n",
       "AGGTTACTCGCGCCAA-332_B01                       17                  #994817  \n",
       "ATGAGGGAGTGTTCCA-332_A01                       17                  #994817  \n",
       "CATAGACAGTCTAACC-299_B02                       17                  #994817  \n",
       "GAGTTACCATGACGAG-299_A02                       17                  #994817  \n",
       "\n",
       "[5 rows x 27 columns]"
      ]
     },
     "execution_count": 9,
     "metadata": {},
     "output_type": "execute_result"
    }
   ],
   "source": [
    "expression_data.obs.head()"
   ]
  },
  {
   "cell_type": "code",
   "execution_count": 10,
   "metadata": {},
   "outputs": [],
   "source": [
    "# Saving to file\n",
    "save_path = '/data/scRNA/ABCA/AIBS/AWS/expression_matrices/WMB-10Xv3/20230630/WMB-10Xv3-CTXsp-log2-wmeta.h5ad'\n",
    "expression_data.write_h5ad(save_path)"
   ]
  },
  {
   "cell_type": "markdown",
   "metadata": {},
   "source": [
    "**Loading the mtx data**"
   ]
  },
  {
   "cell_type": "code",
   "execution_count": 2,
   "metadata": {},
   "outputs": [
    {
     "data": {
      "text/plain": [
       "AnnData object with n_obs × n_vars = 176584 × 31053\n",
       "    var: 'gene_ids', 'feature_types'"
      ]
     },
     "execution_count": 2,
     "metadata": {},
     "output_type": "execute_result"
    }
   ],
   "source": [
    "import scanpy as sc\n",
    "mtx_path = '/data/scRNA/ABCA/AIBS/Direct'\n",
    "adata_mtx = sc.read_10x_mtx(mtx_path, make_unique=True)\n",
    "adata_mtx"
   ]
  }
 ],
 "metadata": {
  "kernelspec": {
   "display_name": "abca-env",
   "language": "python",
   "name": "python3"
  },
  "language_info": {
   "codemirror_mode": {
    "name": "ipython",
    "version": 3
   },
   "file_extension": ".py",
   "mimetype": "text/x-python",
   "name": "python",
   "nbconvert_exporter": "python",
   "pygments_lexer": "ipython3",
   "version": "3.10.16"
  }
 },
 "nbformat": 4,
 "nbformat_minor": 2
}
