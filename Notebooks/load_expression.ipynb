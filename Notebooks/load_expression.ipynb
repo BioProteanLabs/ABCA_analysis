{
 "cells": [
  {
   "cell_type": "markdown",
   "metadata": {},
   "source": [
    "First, install scanpy using `mamba install -c conda-forge scanpy`"
   ]
  },
  {
   "cell_type": "code",
   "execution_count": 2,
   "metadata": {},
   "outputs": [],
   "source": [
    "import scanpy as sc"
   ]
  },
  {
   "cell_type": "code",
   "execution_count": 2,
   "metadata": {},
   "outputs": [],
   "source": [
    "expr_path = '/data/scRNA/ABCA/AIBS/AWS/expression_matrices/WMB-10Xv3/20230630/WMB-10Xv3-CTXsp-log2.h5ad'\n",
    "adata = sc.read_h5ad(expr_path)"
   ]
  },
  {
   "cell_type": "code",
   "execution_count": 5,
   "metadata": {},
   "outputs": [
    {
     "data": {
      "text/plain": [
       "AnnData object with n_obs × n_vars = 78464 × 32285\n",
       "    obs: 'cell_barcode', 'library_label', 'anatomical_division_label'\n",
       "    var: 'gene_symbol'\n",
       "    uns: 'normalization', 'parent', 'parent_layer', 'parent_rows'"
      ]
     },
     "execution_count": 5,
     "metadata": {},
     "output_type": "execute_result"
    }
   ],
   "source": [
    "adata"
   ]
  },
  {
   "cell_type": "code",
   "execution_count": 6,
   "metadata": {},
   "outputs": [
    {
     "data": {
      "text/html": [
       "<div>\n",
       "<style scoped>\n",
       "    .dataframe tbody tr th:only-of-type {\n",
       "        vertical-align: middle;\n",
       "    }\n",
       "\n",
       "    .dataframe tbody tr th {\n",
       "        vertical-align: top;\n",
       "    }\n",
       "\n",
       "    .dataframe thead th {\n",
       "        text-align: right;\n",
       "    }\n",
       "</style>\n",
       "<table border=\"1\" class=\"dataframe\">\n",
       "  <thead>\n",
       "    <tr style=\"text-align: right;\">\n",
       "      <th></th>\n",
       "      <th>cell_barcode</th>\n",
       "      <th>library_label</th>\n",
       "      <th>anatomical_division_label</th>\n",
       "    </tr>\n",
       "    <tr>\n",
       "      <th>cell_label</th>\n",
       "      <th></th>\n",
       "      <th></th>\n",
       "      <th></th>\n",
       "    </tr>\n",
       "  </thead>\n",
       "  <tbody>\n",
       "    <tr>\n",
       "      <th>GCCCGAAGTCAGTTTG-344_C04</th>\n",
       "      <td>GCCCGAAGTCAGTTTG</td>\n",
       "      <td>L8TX_200827_01_E10</td>\n",
       "      <td>CTXsp</td>\n",
       "    </tr>\n",
       "    <tr>\n",
       "      <th>AGGTTACTCGCGCCAA-332_B01</th>\n",
       "      <td>AGGTTACTCGCGCCAA</td>\n",
       "      <td>L8TX_200820_01_D01</td>\n",
       "      <td>CTXsp</td>\n",
       "    </tr>\n",
       "    <tr>\n",
       "      <th>ATGAGGGAGTGTTCCA-332_A01</th>\n",
       "      <td>ATGAGGGAGTGTTCCA</td>\n",
       "      <td>L8TX_200820_01_E02</td>\n",
       "      <td>CTXsp</td>\n",
       "    </tr>\n",
       "    <tr>\n",
       "      <th>CATAGACAGTCTAACC-299_B02</th>\n",
       "      <td>CATAGACAGTCTAACC</td>\n",
       "      <td>L8TX_200723_01_G09</td>\n",
       "      <td>CTXsp</td>\n",
       "    </tr>\n",
       "    <tr>\n",
       "      <th>GAGTTACCATGACGAG-299_A02</th>\n",
       "      <td>GAGTTACCATGACGAG</td>\n",
       "      <td>L8TX_200723_01_F09</td>\n",
       "      <td>CTXsp</td>\n",
       "    </tr>\n",
       "    <tr>\n",
       "      <th>...</th>\n",
       "      <td>...</td>\n",
       "      <td>...</td>\n",
       "      <td>...</td>\n",
       "    </tr>\n",
       "    <tr>\n",
       "      <th>TTTGTTGGTCCCTAAA-344_A04</th>\n",
       "      <td>TTTGTTGGTCCCTAAA</td>\n",
       "      <td>L8TX_200827_01_F09</td>\n",
       "      <td>CTXsp</td>\n",
       "    </tr>\n",
       "    <tr>\n",
       "      <th>TTTGTTGGTGAGCGAT-308_C03</th>\n",
       "      <td>TTTGTTGGTGAGCGAT</td>\n",
       "      <td>L8TX_200730_01_G02</td>\n",
       "      <td>CTXsp</td>\n",
       "    </tr>\n",
       "    <tr>\n",
       "      <th>TTTGTTGGTTGTGGCC-308_C03</th>\n",
       "      <td>TTTGTTGGTTGTGGCC</td>\n",
       "      <td>L8TX_200730_01_G02</td>\n",
       "      <td>CTXsp</td>\n",
       "    </tr>\n",
       "    <tr>\n",
       "      <th>TTTGTTGTCTAAGCCA-332_C01</th>\n",
       "      <td>TTTGTTGTCTAAGCCA</td>\n",
       "      <td>L8TX_200820_01_E08</td>\n",
       "      <td>CTXsp</td>\n",
       "    </tr>\n",
       "    <tr>\n",
       "      <th>TTTGTTGTCTTACGGA-341_A01</th>\n",
       "      <td>TTTGTTGTCTTACGGA</td>\n",
       "      <td>L8TX_200827_01_B09</td>\n",
       "      <td>CTXsp</td>\n",
       "    </tr>\n",
       "  </tbody>\n",
       "</table>\n",
       "<p>78464 rows × 3 columns</p>\n",
       "</div>"
      ],
      "text/plain": [
       "                              cell_barcode       library_label  \\\n",
       "cell_label                                                       \n",
       "GCCCGAAGTCAGTTTG-344_C04  GCCCGAAGTCAGTTTG  L8TX_200827_01_E10   \n",
       "AGGTTACTCGCGCCAA-332_B01  AGGTTACTCGCGCCAA  L8TX_200820_01_D01   \n",
       "ATGAGGGAGTGTTCCA-332_A01  ATGAGGGAGTGTTCCA  L8TX_200820_01_E02   \n",
       "CATAGACAGTCTAACC-299_B02  CATAGACAGTCTAACC  L8TX_200723_01_G09   \n",
       "GAGTTACCATGACGAG-299_A02  GAGTTACCATGACGAG  L8TX_200723_01_F09   \n",
       "...                                    ...                 ...   \n",
       "TTTGTTGGTCCCTAAA-344_A04  TTTGTTGGTCCCTAAA  L8TX_200827_01_F09   \n",
       "TTTGTTGGTGAGCGAT-308_C03  TTTGTTGGTGAGCGAT  L8TX_200730_01_G02   \n",
       "TTTGTTGGTTGTGGCC-308_C03  TTTGTTGGTTGTGGCC  L8TX_200730_01_G02   \n",
       "TTTGTTGTCTAAGCCA-332_C01  TTTGTTGTCTAAGCCA  L8TX_200820_01_E08   \n",
       "TTTGTTGTCTTACGGA-341_A01  TTTGTTGTCTTACGGA  L8TX_200827_01_B09   \n",
       "\n",
       "                         anatomical_division_label  \n",
       "cell_label                                          \n",
       "GCCCGAAGTCAGTTTG-344_C04                     CTXsp  \n",
       "AGGTTACTCGCGCCAA-332_B01                     CTXsp  \n",
       "ATGAGGGAGTGTTCCA-332_A01                     CTXsp  \n",
       "CATAGACAGTCTAACC-299_B02                     CTXsp  \n",
       "GAGTTACCATGACGAG-299_A02                     CTXsp  \n",
       "...                                            ...  \n",
       "TTTGTTGGTCCCTAAA-344_A04                     CTXsp  \n",
       "TTTGTTGGTGAGCGAT-308_C03                     CTXsp  \n",
       "TTTGTTGGTTGTGGCC-308_C03                     CTXsp  \n",
       "TTTGTTGTCTAAGCCA-332_C01                     CTXsp  \n",
       "TTTGTTGTCTTACGGA-341_A01                     CTXsp  \n",
       "\n",
       "[78464 rows x 3 columns]"
      ]
     },
     "execution_count": 6,
     "metadata": {},
     "output_type": "execute_result"
    }
   ],
   "source": [
    "adata.obs"
   ]
  },
  {
   "cell_type": "code",
   "execution_count": 7,
   "metadata": {},
   "outputs": [
    {
     "data": {
      "text/html": [
       "<div>\n",
       "<style scoped>\n",
       "    .dataframe tbody tr th:only-of-type {\n",
       "        vertical-align: middle;\n",
       "    }\n",
       "\n",
       "    .dataframe tbody tr th {\n",
       "        vertical-align: top;\n",
       "    }\n",
       "\n",
       "    .dataframe thead th {\n",
       "        text-align: right;\n",
       "    }\n",
       "</style>\n",
       "<table border=\"1\" class=\"dataframe\">\n",
       "  <thead>\n",
       "    <tr style=\"text-align: right;\">\n",
       "      <th></th>\n",
       "      <th>gene_symbol</th>\n",
       "    </tr>\n",
       "    <tr>\n",
       "      <th>gene_identifier</th>\n",
       "      <th></th>\n",
       "    </tr>\n",
       "  </thead>\n",
       "  <tbody>\n",
       "    <tr>\n",
       "      <th>ENSMUSG00000051951</th>\n",
       "      <td>Xkr4</td>\n",
       "    </tr>\n",
       "    <tr>\n",
       "      <th>ENSMUSG00000089699</th>\n",
       "      <td>Gm1992</td>\n",
       "    </tr>\n",
       "    <tr>\n",
       "      <th>ENSMUSG00000102331</th>\n",
       "      <td>Gm19938</td>\n",
       "    </tr>\n",
       "    <tr>\n",
       "      <th>ENSMUSG00000102343</th>\n",
       "      <td>Gm37381</td>\n",
       "    </tr>\n",
       "    <tr>\n",
       "      <th>ENSMUSG00000025900</th>\n",
       "      <td>Rp1</td>\n",
       "    </tr>\n",
       "    <tr>\n",
       "      <th>...</th>\n",
       "      <td>...</td>\n",
       "    </tr>\n",
       "    <tr>\n",
       "      <th>ENSMUSG00000095523</th>\n",
       "      <td>AC124606.1</td>\n",
       "    </tr>\n",
       "    <tr>\n",
       "      <th>ENSMUSG00000095475</th>\n",
       "      <td>AC133095.2</td>\n",
       "    </tr>\n",
       "    <tr>\n",
       "      <th>ENSMUSG00000094855</th>\n",
       "      <td>AC133095.1</td>\n",
       "    </tr>\n",
       "    <tr>\n",
       "      <th>ENSMUSG00000095019</th>\n",
       "      <td>AC234645.1</td>\n",
       "    </tr>\n",
       "    <tr>\n",
       "      <th>ENSMUSG00000095041</th>\n",
       "      <td>AC149090.1</td>\n",
       "    </tr>\n",
       "  </tbody>\n",
       "</table>\n",
       "<p>32285 rows × 1 columns</p>\n",
       "</div>"
      ],
      "text/plain": [
       "                   gene_symbol\n",
       "gene_identifier               \n",
       "ENSMUSG00000051951        Xkr4\n",
       "ENSMUSG00000089699      Gm1992\n",
       "ENSMUSG00000102331     Gm19938\n",
       "ENSMUSG00000102343     Gm37381\n",
       "ENSMUSG00000025900         Rp1\n",
       "...                        ...\n",
       "ENSMUSG00000095523  AC124606.1\n",
       "ENSMUSG00000095475  AC133095.2\n",
       "ENSMUSG00000094855  AC133095.1\n",
       "ENSMUSG00000095019  AC234645.1\n",
       "ENSMUSG00000095041  AC149090.1\n",
       "\n",
       "[32285 rows x 1 columns]"
      ]
     },
     "execution_count": 7,
     "metadata": {},
     "output_type": "execute_result"
    }
   ],
   "source": [
    "adata.var"
   ]
  },
  {
   "cell_type": "markdown",
   "metadata": {},
   "source": [
    "**Loading the mtx data**"
   ]
  },
  {
   "cell_type": "code",
   "execution_count": 2,
   "metadata": {},
   "outputs": [
    {
     "data": {
      "text/plain": [
       "AnnData object with n_obs × n_vars = 176584 × 31053\n",
       "    var: 'gene_ids', 'feature_types'"
      ]
     },
     "execution_count": 2,
     "metadata": {},
     "output_type": "execute_result"
    }
   ],
   "source": [
    "import scanpy as sc\n",
    "mtx_path = '/data/scRNA/ABCA/AIBS/Direct'\n",
    "adata_mtx = sc.read_10x_mtx(mtx_path, make_unique=True)\n",
    "adata_mtx"
   ]
  }
 ],
 "metadata": {
  "kernelspec": {
   "display_name": "abca-env",
   "language": "python",
   "name": "python3"
  },
  "language_info": {
   "codemirror_mode": {
    "name": "ipython",
    "version": 3
   },
   "file_extension": ".py",
   "mimetype": "text/x-python",
   "name": "python",
   "nbconvert_exporter": "python",
   "pygments_lexer": "ipython3",
   "version": "3.10.16"
  }
 },
 "nbformat": 4,
 "nbformat_minor": 2
}
