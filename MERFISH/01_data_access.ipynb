{
 "cells": [
  {
   "cell_type": "code",
   "execution_count": 3,
   "metadata": {},
   "outputs": [],
   "source": [
    "import anndata\n",
    "import gc\n",
    "import scanpy as sc\n",
    "import pandas as pd\n",
    "from pathlib import Path\n",
    "import matplotlib.pyplot as plt\n",
    "from abc_atlas_access.abc_atlas_cache.abc_project_cache import AbcProjectCache"
   ]
  },
  {
   "cell_type": "code",
   "execution_count": 4,
   "metadata": {},
   "outputs": [
    {
     "data": {
      "text/plain": [
       "1594"
      ]
     },
     "execution_count": 4,
     "metadata": {},
     "output_type": "execute_result"
    }
   ],
   "source": [
    "download_base = Path('/data/scRNA/ABCA/AIBS/AWS/')\n",
    "abc_cache = AbcProjectCache.from_cache_dir(download_base)\n",
    "gc.collect()"
   ]
  },
  {
   "cell_type": "code",
   "execution_count": 5,
   "metadata": {},
   "outputs": [
    {
     "name": "stderr",
     "output_type": "stream",
     "text": [
      "cell_metadata.csv: 100%|██████████| 710M/710M [02:46<00:00, 4.26MMB/s]    \n"
     ]
    },
    {
     "name": "stdout",
     "output_type": "stream",
     "text": [
      "Number of cells =  3938808\n"
     ]
    },
    {
     "data": {
      "text/html": [
       "<div>\n",
       "<style scoped>\n",
       "    .dataframe tbody tr th:only-of-type {\n",
       "        vertical-align: middle;\n",
       "    }\n",
       "\n",
       "    .dataframe tbody tr th {\n",
       "        vertical-align: top;\n",
       "    }\n",
       "\n",
       "    .dataframe thead th {\n",
       "        text-align: right;\n",
       "    }\n",
       "</style>\n",
       "<table border=\"1\" class=\"dataframe\">\n",
       "  <thead>\n",
       "    <tr style=\"text-align: right;\">\n",
       "      <th></th>\n",
       "      <th>brain_section_label</th>\n",
       "      <th>cluster_alias</th>\n",
       "      <th>average_correlation_score</th>\n",
       "      <th>feature_matrix_label</th>\n",
       "      <th>donor_label</th>\n",
       "      <th>donor_genotype</th>\n",
       "      <th>donor_sex</th>\n",
       "      <th>x</th>\n",
       "      <th>y</th>\n",
       "      <th>z</th>\n",
       "      <th>abc_sample_id</th>\n",
       "    </tr>\n",
       "    <tr>\n",
       "      <th>cell_label</th>\n",
       "      <th></th>\n",
       "      <th></th>\n",
       "      <th></th>\n",
       "      <th></th>\n",
       "      <th></th>\n",
       "      <th></th>\n",
       "      <th></th>\n",
       "      <th></th>\n",
       "      <th></th>\n",
       "      <th></th>\n",
       "      <th></th>\n",
       "    </tr>\n",
       "  </thead>\n",
       "  <tbody>\n",
       "    <tr>\n",
       "      <th>1019171907102340387-1</th>\n",
       "      <td>C57BL6J-638850.37</td>\n",
       "      <td>1408</td>\n",
       "      <td>0.596276</td>\n",
       "      <td>C57BL6J-638850</td>\n",
       "      <td>C57BL6J-638850</td>\n",
       "      <td>wt/wt</td>\n",
       "      <td>M</td>\n",
       "      <td>7.226245</td>\n",
       "      <td>4.148963</td>\n",
       "      <td>6.6</td>\n",
       "      <td>c9881423-76a7-4835-ba8b-7942fd384b6b</td>\n",
       "    </tr>\n",
       "    <tr>\n",
       "      <th>1104095349101460194-1</th>\n",
       "      <td>C57BL6J-638850.26</td>\n",
       "      <td>4218</td>\n",
       "      <td>0.641180</td>\n",
       "      <td>C57BL6J-638850</td>\n",
       "      <td>C57BL6J-638850</td>\n",
       "      <td>wt/wt</td>\n",
       "      <td>M</td>\n",
       "      <td>5.064889</td>\n",
       "      <td>7.309543</td>\n",
       "      <td>4.2</td>\n",
       "      <td>aa815488-6487-4e47-8a5e-d82ac9933bc6</td>\n",
       "    </tr>\n",
       "    <tr>\n",
       "      <th>1017092617101450577</th>\n",
       "      <td>C57BL6J-638850.25</td>\n",
       "      <td>4218</td>\n",
       "      <td>0.763531</td>\n",
       "      <td>C57BL6J-638850</td>\n",
       "      <td>C57BL6J-638850</td>\n",
       "      <td>wt/wt</td>\n",
       "      <td>M</td>\n",
       "      <td>5.792921</td>\n",
       "      <td>8.189973</td>\n",
       "      <td>4.0</td>\n",
       "      <td>91ef7a85-8e3e-4410-8ee2-785788df3ebe</td>\n",
       "    </tr>\n",
       "    <tr>\n",
       "      <th>1018093344101130233</th>\n",
       "      <td>C57BL6J-638850.13</td>\n",
       "      <td>4218</td>\n",
       "      <td>0.558073</td>\n",
       "      <td>C57BL6J-638850</td>\n",
       "      <td>C57BL6J-638850</td>\n",
       "      <td>wt/wt</td>\n",
       "      <td>M</td>\n",
       "      <td>3.195950</td>\n",
       "      <td>5.868655</td>\n",
       "      <td>2.4</td>\n",
       "      <td>18991e17-fbd3-4ba0-9c60-1281f56ac520</td>\n",
       "    </tr>\n",
       "    <tr>\n",
       "      <th>1019171912201610094</th>\n",
       "      <td>C57BL6J-638850.27</td>\n",
       "      <td>4218</td>\n",
       "      <td>0.591009</td>\n",
       "      <td>C57BL6J-638850</td>\n",
       "      <td>C57BL6J-638850</td>\n",
       "      <td>wt/wt</td>\n",
       "      <td>M</td>\n",
       "      <td>5.635732</td>\n",
       "      <td>7.995842</td>\n",
       "      <td>4.4</td>\n",
       "      <td>5e155936-e40d-4c6b-8971-e7fb0079274b</td>\n",
       "    </tr>\n",
       "  </tbody>\n",
       "</table>\n",
       "</div>"
      ],
      "text/plain": [
       "                      brain_section_label  cluster_alias  \\\n",
       "cell_label                                                 \n",
       "1019171907102340387-1   C57BL6J-638850.37           1408   \n",
       "1104095349101460194-1   C57BL6J-638850.26           4218   \n",
       "1017092617101450577     C57BL6J-638850.25           4218   \n",
       "1018093344101130233     C57BL6J-638850.13           4218   \n",
       "1019171912201610094     C57BL6J-638850.27           4218   \n",
       "\n",
       "                       average_correlation_score feature_matrix_label  \\\n",
       "cell_label                                                              \n",
       "1019171907102340387-1                   0.596276       C57BL6J-638850   \n",
       "1104095349101460194-1                   0.641180       C57BL6J-638850   \n",
       "1017092617101450577                     0.763531       C57BL6J-638850   \n",
       "1018093344101130233                     0.558073       C57BL6J-638850   \n",
       "1019171912201610094                     0.591009       C57BL6J-638850   \n",
       "\n",
       "                          donor_label donor_genotype donor_sex         x  \\\n",
       "cell_label                                                                 \n",
       "1019171907102340387-1  C57BL6J-638850          wt/wt         M  7.226245   \n",
       "1104095349101460194-1  C57BL6J-638850          wt/wt         M  5.064889   \n",
       "1017092617101450577    C57BL6J-638850          wt/wt         M  5.792921   \n",
       "1018093344101130233    C57BL6J-638850          wt/wt         M  3.195950   \n",
       "1019171912201610094    C57BL6J-638850          wt/wt         M  5.635732   \n",
       "\n",
       "                              y    z                         abc_sample_id  \n",
       "cell_label                                                                  \n",
       "1019171907102340387-1  4.148963  6.6  c9881423-76a7-4835-ba8b-7942fd384b6b  \n",
       "1104095349101460194-1  7.309543  4.2  aa815488-6487-4e47-8a5e-d82ac9933bc6  \n",
       "1017092617101450577    8.189973  4.0  91ef7a85-8e3e-4410-8ee2-785788df3ebe  \n",
       "1018093344101130233    5.868655  2.4  18991e17-fbd3-4ba0-9c60-1281f56ac520  \n",
       "1019171912201610094    7.995842  4.4  5e155936-e40d-4c6b-8971-e7fb0079274b  "
      ]
     },
     "execution_count": 5,
     "metadata": {},
     "output_type": "execute_result"
    }
   ],
   "source": [
    "cell = abc_cache.get_metadata_dataframe(\n",
    "    directory='MERFISH-C57BL6J-638850',\n",
    "    file_name='cell_metadata',\n",
    "    dtype={\"cell_label\": str}\n",
    ")\n",
    "cell.set_index('cell_label', inplace=True)\n",
    "print(\"Number of cells = \", len(cell))\n",
    "cell.head(5)"
   ]
  },
  {
   "cell_type": "code",
   "execution_count": 6,
   "metadata": {},
   "outputs": [
    {
     "name": "stdout",
     "output_type": "stream",
     "text": [
      "Number of unique brain_section_label = 59 \n",
      "Number of unique cluster_alias = 5320 \n",
      "Number of unique average_correlation_score = 3932069 \n",
      "Number of unique feature_matrix_label = 1 ['C57BL6J-638850']\n",
      "Number of unique donor_label = 1 ['C57BL6J-638850']\n",
      "Number of unique donor_genotype = 1 ['wt/wt']\n",
      "Number of unique donor_sex = 1 ['M']\n",
      "Number of unique x = 3938808 \n",
      "Number of unique y = 3938808 \n",
      "Number of unique z = 59 \n",
      "Number of unique abc_sample_id = 3938808 \n"
     ]
    }
   ],
   "source": [
    "def print_column_info(df):\n",
    "    \n",
    "    for c in df.columns:\n",
    "        grouped = df[[c]].groupby(c).count()\n",
    "        members = ''\n",
    "        if len(grouped) < 30:\n",
    "            members = str(list(grouped.index))\n",
    "        print(\"Number of unique %s = %d %s\" % (c,len(grouped), members))\n",
    "\n",
    "print_column_info(cell)"
   ]
  },
  {
   "cell_type": "code",
   "execution_count": 7,
   "metadata": {},
   "outputs": [
    {
     "data": {
      "text/plain": [
       "['C57BL6J-638850/log2', 'C57BL6J-638850/raw']"
      ]
     },
     "execution_count": 7,
     "metadata": {},
     "output_type": "execute_result"
    }
   ],
   "source": [
    "abc_cache.list_data_files('MERFISH-C57BL6J-638850')"
   ]
  },
  {
   "cell_type": "code",
   "execution_count": 8,
   "metadata": {},
   "outputs": [
    {
     "name": "stderr",
     "output_type": "stream",
     "text": [
      "C57BL6J-638850-raw.h5ad: 100%|██████████| 7.63G/7.63G [17:42<00:00, 7.18MMB/s]    \n"
     ]
    },
    {
     "data": {
      "text/plain": [
       "PosixPath('/data/scRNA/ABCA/AIBS/AWS/expression_matrices/MERFISH-C57BL6J-638850/20230830/C57BL6J-638850-raw.h5ad')"
      ]
     },
     "execution_count": 8,
     "metadata": {},
     "output_type": "execute_result"
    }
   ],
   "source": [
    "abc_cache.get_data_path(directory='MERFISH-C57BL6J-638850', file_name='C57BL6J-638850/raw')"
   ]
  },
  {
   "cell_type": "code",
   "execution_count": 9,
   "metadata": {},
   "outputs": [
    {
     "data": {
      "text/plain": [
       "AnnData object with n_obs × n_vars = 4334174 × 550\n",
       "    obs: 'brain_section_label'\n",
       "    var: 'gene_symbol', 'transcript_identifier'\n",
       "    uns: 'accessed_on', 'src'"
      ]
     },
     "execution_count": 9,
     "metadata": {},
     "output_type": "execute_result"
    }
   ],
   "source": [
    "expr_path = '/data/scRNA/ABCA/AIBS/AWS/expression_matrices/MERFISH-C57BL6J-638850/20230830/C57BL6J-638850-raw.h5ad'\n",
    "expression_data = sc.read_h5ad(expr_path)\n",
    "expression_data"
   ]
  },
  {
   "cell_type": "code",
   "execution_count": 11,
   "metadata": {},
   "outputs": [
    {
     "data": {
      "text/html": [
       "<div>\n",
       "<style scoped>\n",
       "    .dataframe tbody tr th:only-of-type {\n",
       "        vertical-align: middle;\n",
       "    }\n",
       "\n",
       "    .dataframe tbody tr th {\n",
       "        vertical-align: top;\n",
       "    }\n",
       "\n",
       "    .dataframe thead th {\n",
       "        text-align: right;\n",
       "    }\n",
       "</style>\n",
       "<table border=\"1\" class=\"dataframe\">\n",
       "  <thead>\n",
       "    <tr style=\"text-align: right;\">\n",
       "      <th></th>\n",
       "      <th>brain_section_label</th>\n",
       "    </tr>\n",
       "    <tr>\n",
       "      <th>cell_label</th>\n",
       "      <th></th>\n",
       "    </tr>\n",
       "  </thead>\n",
       "  <tbody>\n",
       "    <tr>\n",
       "      <th>1015221640100570419</th>\n",
       "      <td>C57BL6J-638850.01</td>\n",
       "    </tr>\n",
       "    <tr>\n",
       "      <th>1015221640100590598</th>\n",
       "      <td>C57BL6J-638850.01</td>\n",
       "    </tr>\n",
       "    <tr>\n",
       "      <th>1015221640100820600</th>\n",
       "      <td>C57BL6J-638850.01</td>\n",
       "    </tr>\n",
       "    <tr>\n",
       "      <th>1015221640100580476</th>\n",
       "      <td>C57BL6J-638850.01</td>\n",
       "    </tr>\n",
       "    <tr>\n",
       "      <th>1015221640100580189</th>\n",
       "      <td>C57BL6J-638850.01</td>\n",
       "    </tr>\n",
       "  </tbody>\n",
       "</table>\n",
       "</div>"
      ],
      "text/plain": [
       "                    brain_section_label\n",
       "cell_label                             \n",
       "1015221640100570419   C57BL6J-638850.01\n",
       "1015221640100590598   C57BL6J-638850.01\n",
       "1015221640100820600   C57BL6J-638850.01\n",
       "1015221640100580476   C57BL6J-638850.01\n",
       "1015221640100580189   C57BL6J-638850.01"
      ]
     },
     "execution_count": 11,
     "metadata": {},
     "output_type": "execute_result"
    }
   ],
   "source": [
    "expression_data.obs.head()"
   ]
  }
 ],
 "metadata": {
  "kernelspec": {
   "display_name": "abca-env",
   "language": "python",
   "name": "python3"
  },
  "language_info": {
   "codemirror_mode": {
    "name": "ipython",
    "version": 3
   },
   "file_extension": ".py",
   "mimetype": "text/x-python",
   "name": "python",
   "nbconvert_exporter": "python",
   "pygments_lexer": "ipython3",
   "version": "3.10.16"
  }
 },
 "nbformat": 4,
 "nbformat_minor": 2
}
